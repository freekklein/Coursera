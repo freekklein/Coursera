{
 "cells": [
  {
   "cell_type": "markdown",
   "metadata": {},
   "source": [
    "# Week 2: https://www.coursera.org/learn/natural-language-processing-tensorflow/home/week/2"
   ]
  },
  {
   "cell_type": "code",
   "execution_count": 1,
   "metadata": {},
   "outputs": [],
   "source": [
    "# Embeddings: words and associated words are clustered in \n",
    "# vectors in multi-dimensional space"
   ]
  },
  {
   "cell_type": "code",
   "execution_count": 2,
   "metadata": {},
   "outputs": [],
   "source": [
    "# IMDB classification"
   ]
  },
  {
   "cell_type": "code",
   "execution_count": 2,
   "metadata": {},
   "outputs": [],
   "source": [
    "import tensorflow as tf"
   ]
  },
  {
   "cell_type": "code",
   "execution_count": 3,
   "metadata": {},
   "outputs": [
    {
     "data": {
      "text/plain": [
       "'2.1.0'"
      ]
     },
     "execution_count": 3,
     "metadata": {},
     "output_type": "execute_result"
    }
   ],
   "source": [
    "tf.__version__"
   ]
  },
  {
   "cell_type": "code",
   "execution_count": 6,
   "metadata": {},
   "outputs": [],
   "source": [
    "# !pip install -q tensorflow-datasets"
   ]
  },
  {
   "cell_type": "code",
   "execution_count": 5,
   "metadata": {},
   "outputs": [],
   "source": [
    "import tensorflow_datasets as tfds"
   ]
  },
  {
   "cell_type": "markdown",
   "metadata": {},
   "source": [
    "## Load in data"
   ]
  },
  {
   "cell_type": "code",
   "execution_count": 6,
   "metadata": {},
   "outputs": [],
   "source": [
    "imbd, info = tfds.load(\"imdb_reviews\", with_info=True, as_supervised=True)"
   ]
  },
  {
   "cell_type": "code",
   "execution_count": null,
   "metadata": {},
   "outputs": [],
   "source": [
    "# train test split"
   ]
  },
  {
   "cell_type": "code",
   "execution_count": 7,
   "metadata": {},
   "outputs": [],
   "source": [
    "train, test = imbd['train'], imbd['test']"
   ]
  },
  {
   "cell_type": "code",
   "execution_count": 8,
   "metadata": {},
   "outputs": [],
   "source": [
    "train_sentences = []\n",
    "train_labels = []\n",
    "\n",
    "for i,j in train:\n",
    "    train_sentences.append(str(i.numpy()))\n",
    "    train_labels.append(str(j.numpy()))"
   ]
  },
  {
   "cell_type": "code",
   "execution_count": 9,
   "metadata": {},
   "outputs": [],
   "source": [
    "test_sentences = []\n",
    "test_labels = []\n",
    "\n",
    "for i,j in test:\n",
    "    test_sentences.append(str(i.numpy()))\n",
    "    test_labels.append(str(j.numpy()))"
   ]
  },
  {
   "cell_type": "code",
   "execution_count": 10,
   "metadata": {},
   "outputs": [],
   "source": [
    "import numpy as np\n",
    "train_labels_array = np.array(train_labels)\n",
    "test_labels_array = np.array(test_labels)"
   ]
  },
  {
   "cell_type": "markdown",
   "metadata": {},
   "source": [
    "### convert str label to int"
   ]
  },
  {
   "cell_type": "code",
   "execution_count": 11,
   "metadata": {},
   "outputs": [],
   "source": [
    "map_str_labels_to_int = {'1':1, '0':0}"
   ]
  },
  {
   "cell_type": "code",
   "execution_count": 12,
   "metadata": {},
   "outputs": [],
   "source": [
    "train_labels_int=list(map(int, train_labels))\n",
    "test_labels_int=list(map(int, test_labels))"
   ]
  },
  {
   "cell_type": "code",
   "execution_count": 13,
   "metadata": {},
   "outputs": [],
   "source": [
    "train_labels_array_int = np.array(train_labels_int)\n",
    "test_labels_array_int = np.array(test_labels_int)"
   ]
  },
  {
   "cell_type": "markdown",
   "metadata": {},
   "source": [
    "## Create tokenizer and apply padding"
   ]
  },
  {
   "cell_type": "code",
   "execution_count": 14,
   "metadata": {},
   "outputs": [],
   "source": [
    "VOCAB_SIZE = int(1e+4)  # size of vocabulary\n",
    "OOV_TOK = \"<OOV>\"\n",
    "MAX_LEN = 120  # max number of items in sequence\n",
    "TRUNC_TYPE = 'post'\n",
    "EMBED_DIM = 16  # embedding dimension (= output)"
   ]
  },
  {
   "cell_type": "code",
   "execution_count": 15,
   "metadata": {},
   "outputs": [],
   "source": [
    "from tensorflow.keras.preprocessing.text import Tokenizer,text_to_word_sequence\n",
    "from tensorflow.keras.preprocessing.sequence import pad_sequences"
   ]
  },
  {
   "cell_type": "code",
   "execution_count": 16,
   "metadata": {},
   "outputs": [],
   "source": [
    "tokenizer = Tokenizer(oov_token=OOV_TOK, num_words=VOCAB_SIZE)"
   ]
  },
  {
   "cell_type": "code",
   "execution_count": 17,
   "metadata": {},
   "outputs": [],
   "source": [
    "tokenizer.fit_on_texts(train_sentences)"
   ]
  },
  {
   "cell_type": "code",
   "execution_count": 18,
   "metadata": {},
   "outputs": [],
   "source": [
    "word_index = tokenizer.word_index # 86539 length"
   ]
  },
  {
   "cell_type": "code",
   "execution_count": 20,
   "metadata": {},
   "outputs": [],
   "source": [
    "train_sequences = tokenizer.texts_to_sequences(train_sentences)"
   ]
  },
  {
   "cell_type": "code",
   "execution_count": 21,
   "metadata": {},
   "outputs": [],
   "source": [
    "train_padded = pad_sequences(train_sequences, maxlen=MAX_LEN, truncating=TRUNC_TYPE)"
   ]
  },
  {
   "cell_type": "code",
   "execution_count": 22,
   "metadata": {},
   "outputs": [
    {
     "data": {
      "text/plain": [
       "(25000, 120)"
      ]
     },
     "execution_count": 22,
     "metadata": {},
     "output_type": "execute_result"
    }
   ],
   "source": [
    "train_padded.shape"
   ]
  },
  {
   "cell_type": "code",
   "execution_count": 23,
   "metadata": {},
   "outputs": [],
   "source": [
    "# apply on test"
   ]
  },
  {
   "cell_type": "code",
   "execution_count": 24,
   "metadata": {},
   "outputs": [],
   "source": [
    "test_sequences = tokenizer.texts_to_sequences(test_sentences)"
   ]
  },
  {
   "cell_type": "code",
   "execution_count": 25,
   "metadata": {},
   "outputs": [],
   "source": [
    "test_padded = pad_sequences(test_sequences, maxlen=MAX_LEN)"
   ]
  },
  {
   "cell_type": "code",
   "execution_count": 26,
   "metadata": {},
   "outputs": [
    {
     "data": {
      "text/plain": [
       "(25000, 120)"
      ]
     },
     "execution_count": 26,
     "metadata": {},
     "output_type": "execute_result"
    }
   ],
   "source": [
    "test_padded.shape"
   ]
  },
  {
   "cell_type": "markdown",
   "metadata": {},
   "source": [
    "### Reverse word index tuple"
   ]
  },
  {
   "cell_type": "code",
   "execution_count": 89,
   "metadata": {},
   "outputs": [],
   "source": [
    "word_index_reversed = dict([(value,key) for (key,value) in word_index.items()])"
   ]
  },
  {
   "cell_type": "markdown",
   "metadata": {},
   "source": [
    "## Model"
   ]
  },
  {
   "cell_type": "markdown",
   "metadata": {},
   "source": [
    "### With flatten layer"
   ]
  },
  {
   "cell_type": "code",
   "execution_count": 28,
   "metadata": {},
   "outputs": [],
   "source": [
    "model = tf.keras.Sequential([\n",
    "    \n",
    "    # Result is 2D array with length of sentence and dimension of embedding\n",
    "    tf.keras.layers.Embedding(input_dim=VOCAB_SIZE, \n",
    "                                  output_dim=EMBED_DIM,\n",
    "                                  input_length=MAX_LEN),\n",
    "    \n",
    "    # In NLP another layer type than flatten is used (due to size of output vector)\n",
    "    tf.keras.layers.Flatten(),\n",
    "    \n",
    "    # Dense NN for classification\n",
    "    tf.keras.layers.Dense(6, activation='relu'),\n",
    "    tf.keras.layers.Dense(1, activation='sigmoid')\n",
    "])"
   ]
  },
  {
   "cell_type": "code",
   "execution_count": 29,
   "metadata": {},
   "outputs": [
    {
     "name": "stdout",
     "output_type": "stream",
     "text": [
      "Model: \"sequential\"\n",
      "_________________________________________________________________\n",
      "Layer (type)                 Output Shape              Param #   \n",
      "=================================================================\n",
      "embedding (Embedding)        (None, 120, 16)           160000    \n",
      "_________________________________________________________________\n",
      "flatten (Flatten)            (None, 1920)              0         \n",
      "_________________________________________________________________\n",
      "dense (Dense)                (None, 6)                 11526     \n",
      "_________________________________________________________________\n",
      "dense_1 (Dense)              (None, 1)                 7         \n",
      "=================================================================\n",
      "Total params: 171,533\n",
      "Trainable params: 171,533\n",
      "Non-trainable params: 0\n",
      "_________________________________________________________________\n"
     ]
    }
   ],
   "source": [
    "(\n",
    "    model\n",
    "    .compile(optimizer='adam',\n",
    "             loss='binary_crossentropy',\n",
    "             metrics=['accuracy'])\n",
    ")\n",
    "model.summary()"
   ]
  },
  {
   "cell_type": "markdown",
   "metadata": {},
   "source": [
    "### With global average pooling layer"
   ]
  },
  {
   "cell_type": "code",
   "execution_count": 30,
   "metadata": {},
   "outputs": [],
   "source": [
    "model = tf.keras.Sequential([\n",
    "    tf.keras.layers.Embedding(input_dim=VOCAB_SIZE, \n",
    "                                  output_dim=EMBED_DIM,\n",
    "                                  input_length=MAX_LEN),\n",
    "    \n",
    "    # Averages across the vectors to flatten it out (bit faster)\n",
    "    tf.keras.layers.GlobalAveragePooling1D(),\n",
    "    tf.keras.layers.Dense(6, activation='relu'),\n",
    "    tf.keras.layers.Dense(1, activation='sigmoid')\n",
    "])"
   ]
  },
  {
   "cell_type": "code",
   "execution_count": 31,
   "metadata": {},
   "outputs": [
    {
     "name": "stdout",
     "output_type": "stream",
     "text": [
      "Model: \"sequential_1\"\n",
      "_________________________________________________________________\n",
      "Layer (type)                 Output Shape              Param #   \n",
      "=================================================================\n",
      "embedding_1 (Embedding)      (None, 120, 16)           160000    \n",
      "_________________________________________________________________\n",
      "global_average_pooling1d (Gl (None, 16)                0         \n",
      "_________________________________________________________________\n",
      "dense_2 (Dense)              (None, 6)                 102       \n",
      "_________________________________________________________________\n",
      "dense_3 (Dense)              (None, 1)                 7         \n",
      "=================================================================\n",
      "Total params: 160,109\n",
      "Trainable params: 160,109\n",
      "Non-trainable params: 0\n",
      "_________________________________________________________________\n"
     ]
    }
   ],
   "source": [
    "(\n",
    "    model\n",
    "    .compile(optimizer='adam',\n",
    "             loss='binary_crossentropy',\n",
    "             metrics=['accuracy'])\n",
    ")\n",
    "model.summary()"
   ]
  },
  {
   "cell_type": "markdown",
   "metadata": {},
   "source": [
    "### Fit model and validate"
   ]
  },
  {
   "cell_type": "code",
   "execution_count": 32,
   "metadata": {},
   "outputs": [],
   "source": [
    "NUM_EPOCHS = 10"
   ]
  },
  {
   "cell_type": "code",
   "execution_count": 33,
   "metadata": {
    "scrolled": true
   },
   "outputs": [
    {
     "name": "stdout",
     "output_type": "stream",
     "text": [
      "Train on 25000 samples, validate on 25000 samples\n",
      "Epoch 1/10\n",
      "25000/25000 [==============================] - ETA: 12:48 - loss: 0.6930 - accuracy: 0.531 - ETA: 1:29 - loss: 0.6932 - accuracy: 0.534 - ETA: 52s - loss: 0.6929 - accuracy: 0.5195 - ETA: 36s - loss: 0.6929 - accuracy: 0.509 - ETA: 28s - loss: 0.6925 - accuracy: 0.518 - ETA: 23s - loss: 0.6923 - accuracy: 0.522 - ETA: 20s - loss: 0.6919 - accuracy: 0.531 - ETA: 18s - loss: 0.6917 - accuracy: 0.531 - ETA: 16s - loss: 0.6914 - accuracy: 0.543 - ETA: 15s - loss: 0.6909 - accuracy: 0.561 - ETA: 14s - loss: 0.6903 - accuracy: 0.572 - ETA: 13s - loss: 0.6898 - accuracy: 0.583 - ETA: 12s - loss: 0.6890 - accuracy: 0.595 - ETA: 11s - loss: 0.6886 - accuracy: 0.600 - ETA: 11s - loss: 0.6881 - accuracy: 0.605 - ETA: 10s - loss: 0.6873 - accuracy: 0.610 - ETA: 10s - loss: 0.6867 - accuracy: 0.615 - ETA: 9s - loss: 0.6859 - accuracy: 0.620 - ETA: 9s - loss: 0.6851 - accuracy: 0.62 - ETA: 9s - loss: 0.6844 - accuracy: 0.63 - ETA: 8s - loss: 0.6837 - accuracy: 0.63 - ETA: 8s - loss: 0.6826 - accuracy: 0.63 - ETA: 8s - loss: 0.6815 - accuracy: 0.64 - ETA: 7s - loss: 0.6804 - accuracy: 0.64 - ETA: 7s - loss: 0.6793 - accuracy: 0.65 - ETA: 7s - loss: 0.6780 - accuracy: 0.65 - ETA: 7s - loss: 0.6770 - accuracy: 0.65 - ETA: 7s - loss: 0.6759 - accuracy: 0.66 - ETA: 6s - loss: 0.6748 - accuracy: 0.66 - ETA: 6s - loss: 0.6730 - accuracy: 0.66 - ETA: 6s - loss: 0.6715 - accuracy: 0.66 - ETA: 6s - loss: 0.6703 - accuracy: 0.67 - ETA: 6s - loss: 0.6688 - accuracy: 0.67 - ETA: 6s - loss: 0.6676 - accuracy: 0.67 - ETA: 5s - loss: 0.6659 - accuracy: 0.67 - ETA: 5s - loss: 0.6641 - accuracy: 0.67 - ETA: 5s - loss: 0.6627 - accuracy: 0.68 - ETA: 5s - loss: 0.6609 - accuracy: 0.68 - ETA: 5s - loss: 0.6595 - accuracy: 0.68 - ETA: 5s - loss: 0.6584 - accuracy: 0.68 - ETA: 5s - loss: 0.6569 - accuracy: 0.68 - ETA: 5s - loss: 0.6555 - accuracy: 0.68 - ETA: 5s - loss: 0.6545 - accuracy: 0.69 - ETA: 5s - loss: 0.6527 - accuracy: 0.69 - ETA: 5s - loss: 0.6506 - accuracy: 0.69 - ETA: 4s - loss: 0.6487 - accuracy: 0.69 - ETA: 4s - loss: 0.6466 - accuracy: 0.69 - ETA: 4s - loss: 0.6451 - accuracy: 0.70 - ETA: 4s - loss: 0.6430 - accuracy: 0.70 - ETA: 4s - loss: 0.6411 - accuracy: 0.70 - ETA: 4s - loss: 0.6390 - accuracy: 0.70 - ETA: 4s - loss: 0.6369 - accuracy: 0.70 - ETA: 4s - loss: 0.6345 - accuracy: 0.71 - ETA: 4s - loss: 0.6315 - accuracy: 0.71 - ETA: 3s - loss: 0.6290 - accuracy: 0.71 - ETA: 3s - loss: 0.6272 - accuracy: 0.71 - ETA: 3s - loss: 0.6250 - accuracy: 0.71 - ETA: 3s - loss: 0.6229 - accuracy: 0.72 - ETA: 3s - loss: 0.6205 - accuracy: 0.72 - ETA: 3s - loss: 0.6184 - accuracy: 0.72 - ETA: 3s - loss: 0.6163 - accuracy: 0.72 - ETA: 3s - loss: 0.6143 - accuracy: 0.72 - ETA: 3s - loss: 0.6120 - accuracy: 0.72 - ETA: 3s - loss: 0.6103 - accuracy: 0.72 - ETA: 3s - loss: 0.6090 - accuracy: 0.72 - ETA: 3s - loss: 0.6072 - accuracy: 0.73 - ETA: 2s - loss: 0.6057 - accuracy: 0.73 - ETA: 2s - loss: 0.6041 - accuracy: 0.73 - ETA: 2s - loss: 0.6024 - accuracy: 0.73 - ETA: 2s - loss: 0.6006 - accuracy: 0.73 - ETA: 2s - loss: 0.5985 - accuracy: 0.73 - ETA: 2s - loss: 0.5964 - accuracy: 0.73 - ETA: 2s - loss: 0.5942 - accuracy: 0.73 - ETA: 2s - loss: 0.5927 - accuracy: 0.73 - ETA: 2s - loss: 0.5907 - accuracy: 0.74 - ETA: 2s - loss: 0.5884 - accuracy: 0.74 - ETA: 2s - loss: 0.5869 - accuracy: 0.74 - ETA: 2s - loss: 0.5854 - accuracy: 0.74 - ETA: 2s - loss: 0.5829 - accuracy: 0.74 - ETA: 1s - loss: 0.5807 - accuracy: 0.74 - ETA: 1s - loss: 0.5786 - accuracy: 0.74 - ETA: 1s - loss: 0.5762 - accuracy: 0.74 - ETA: 1s - loss: 0.5748 - accuracy: 0.74 - ETA: 1s - loss: 0.5731 - accuracy: 0.74 - ETA: 1s - loss: 0.5712 - accuracy: 0.75 - ETA: 1s - loss: 0.5699 - accuracy: 0.75 - ETA: 1s - loss: 0.5683 - accuracy: 0.75 - ETA: 1s - loss: 0.5666 - accuracy: 0.75 - ETA: 1s - loss: 0.5649 - accuracy: 0.75 - ETA: 1s - loss: 0.5628 - accuracy: 0.75 - ETA: 1s - loss: 0.5609 - accuracy: 0.75 - ETA: 1s - loss: 0.5592 - accuracy: 0.75 - ETA: 1s - loss: 0.5574 - accuracy: 0.75 - ETA: 0s - loss: 0.5561 - accuracy: 0.75 - ETA: 0s - loss: 0.5549 - accuracy: 0.75 - ETA: 0s - loss: 0.5535 - accuracy: 0.75 - ETA: 0s - loss: 0.5520 - accuracy: 0.76 - ETA: 0s - loss: 0.5510 - accuracy: 0.76 - ETA: 0s - loss: 0.5500 - accuracy: 0.76 - ETA: 0s - loss: 0.5486 - accuracy: 0.76 - ETA: 0s - loss: 0.5475 - accuracy: 0.76 - ETA: 0s - loss: 0.5458 - accuracy: 0.76 - ETA: 0s - loss: 0.5438 - accuracy: 0.76 - ETA: 0s - loss: 0.5425 - accuracy: 0.76 - ETA: 0s - loss: 0.5410 - accuracy: 0.76 - ETA: 0s - loss: 0.5395 - accuracy: 0.76 - ETA: 0s - loss: 0.5379 - accuracy: 0.76 - ETA: 0s - loss: 0.5365 - accuracy: 0.76 - ETA: 0s - loss: 0.5347 - accuracy: 0.76 - 9s 361us/sample - loss: 0.5344 - accuracy: 0.7684 - val_loss: 0.3790 - val_accuracy: 0.8391\n",
      "Epoch 2/10\n"
     ]
    },
    {
     "name": "stdout",
     "output_type": "stream",
     "text": [
      "25000/25000 [==============================] - ETA: 14s - loss: 0.2727 - accuracy: 0.906 - ETA: 7s - loss: 0.3183 - accuracy: 0.883 - ETA: 6s - loss: 0.3334 - accuracy: 0.88 - ETA: 6s - loss: 0.3465 - accuracy: 0.85 - ETA: 6s - loss: 0.3447 - accuracy: 0.86 - ETA: 6s - loss: 0.3475 - accuracy: 0.86 - ETA: 6s - loss: 0.3473 - accuracy: 0.86 - ETA: 5s - loss: 0.3482 - accuracy: 0.86 - ETA: 5s - loss: 0.3457 - accuracy: 0.86 - ETA: 5s - loss: 0.3486 - accuracy: 0.86 - ETA: 5s - loss: 0.3454 - accuracy: 0.86 - ETA: 5s - loss: 0.3465 - accuracy: 0.86 - ETA: 5s - loss: 0.3490 - accuracy: 0.86 - ETA: 5s - loss: 0.3488 - accuracy: 0.85 - ETA: 5s - loss: 0.3470 - accuracy: 0.86 - ETA: 5s - loss: 0.3479 - accuracy: 0.85 - ETA: 5s - loss: 0.3497 - accuracy: 0.85 - ETA: 5s - loss: 0.3511 - accuracy: 0.85 - ETA: 5s - loss: 0.3513 - accuracy: 0.85 - ETA: 5s - loss: 0.3532 - accuracy: 0.85 - ETA: 4s - loss: 0.3525 - accuracy: 0.85 - ETA: 4s - loss: 0.3523 - accuracy: 0.85 - ETA: 4s - loss: 0.3516 - accuracy: 0.85 - ETA: 4s - loss: 0.3501 - accuracy: 0.85 - ETA: 4s - loss: 0.3496 - accuracy: 0.85 - ETA: 4s - loss: 0.3504 - accuracy: 0.85 - ETA: 4s - loss: 0.3485 - accuracy: 0.85 - ETA: 4s - loss: 0.3473 - accuracy: 0.85 - ETA: 4s - loss: 0.3476 - accuracy: 0.85 - ETA: 4s - loss: 0.3471 - accuracy: 0.85 - ETA: 4s - loss: 0.3476 - accuracy: 0.85 - ETA: 4s - loss: 0.3452 - accuracy: 0.86 - ETA: 4s - loss: 0.3450 - accuracy: 0.85 - ETA: 4s - loss: 0.3438 - accuracy: 0.85 - ETA: 4s - loss: 0.3423 - accuracy: 0.86 - ETA: 4s - loss: 0.3417 - accuracy: 0.86 - ETA: 4s - loss: 0.3423 - accuracy: 0.86 - ETA: 4s - loss: 0.3408 - accuracy: 0.86 - ETA: 4s - loss: 0.3408 - accuracy: 0.86 - ETA: 4s - loss: 0.3401 - accuracy: 0.86 - ETA: 4s - loss: 0.3399 - accuracy: 0.86 - ETA: 3s - loss: 0.3402 - accuracy: 0.86 - ETA: 3s - loss: 0.3397 - accuracy: 0.86 - ETA: 3s - loss: 0.3404 - accuracy: 0.86 - ETA: 3s - loss: 0.3397 - accuracy: 0.86 - ETA: 3s - loss: 0.3401 - accuracy: 0.86 - ETA: 3s - loss: 0.3394 - accuracy: 0.86 - ETA: 3s - loss: 0.3396 - accuracy: 0.86 - ETA: 3s - loss: 0.3399 - accuracy: 0.86 - ETA: 3s - loss: 0.3399 - accuracy: 0.86 - ETA: 3s - loss: 0.3397 - accuracy: 0.86 - ETA: 3s - loss: 0.3387 - accuracy: 0.86 - ETA: 3s - loss: 0.3396 - accuracy: 0.86 - ETA: 3s - loss: 0.3394 - accuracy: 0.86 - ETA: 3s - loss: 0.3393 - accuracy: 0.86 - ETA: 3s - loss: 0.3383 - accuracy: 0.86 - ETA: 3s - loss: 0.3383 - accuracy: 0.86 - ETA: 3s - loss: 0.3382 - accuracy: 0.86 - ETA: 2s - loss: 0.3372 - accuracy: 0.86 - ETA: 2s - loss: 0.3371 - accuracy: 0.86 - ETA: 2s - loss: 0.3363 - accuracy: 0.86 - ETA: 2s - loss: 0.3358 - accuracy: 0.86 - ETA: 2s - loss: 0.3356 - accuracy: 0.86 - ETA: 2s - loss: 0.3355 - accuracy: 0.86 - ETA: 2s - loss: 0.3351 - accuracy: 0.86 - ETA: 2s - loss: 0.3345 - accuracy: 0.86 - ETA: 2s - loss: 0.3347 - accuracy: 0.86 - ETA: 2s - loss: 0.3341 - accuracy: 0.86 - ETA: 2s - loss: 0.3344 - accuracy: 0.86 - ETA: 2s - loss: 0.3340 - accuracy: 0.86 - ETA: 2s - loss: 0.3339 - accuracy: 0.86 - ETA: 2s - loss: 0.3340 - accuracy: 0.86 - ETA: 2s - loss: 0.3344 - accuracy: 0.86 - ETA: 2s - loss: 0.3339 - accuracy: 0.86 - ETA: 2s - loss: 0.3335 - accuracy: 0.86 - ETA: 2s - loss: 0.3338 - accuracy: 0.86 - ETA: 2s - loss: 0.3340 - accuracy: 0.86 - ETA: 1s - loss: 0.3343 - accuracy: 0.86 - ETA: 1s - loss: 0.3339 - accuracy: 0.86 - ETA: 1s - loss: 0.3336 - accuracy: 0.86 - ETA: 1s - loss: 0.3330 - accuracy: 0.86 - ETA: 1s - loss: 0.3332 - accuracy: 0.86 - ETA: 1s - loss: 0.3328 - accuracy: 0.86 - ETA: 1s - loss: 0.3331 - accuracy: 0.86 - ETA: 1s - loss: 0.3329 - accuracy: 0.86 - ETA: 1s - loss: 0.3324 - accuracy: 0.86 - ETA: 1s - loss: 0.3314 - accuracy: 0.86 - ETA: 1s - loss: 0.3319 - accuracy: 0.86 - ETA: 1s - loss: 0.3315 - accuracy: 0.86 - ETA: 1s - loss: 0.3314 - accuracy: 0.86 - ETA: 1s - loss: 0.3309 - accuracy: 0.86 - ETA: 1s - loss: 0.3305 - accuracy: 0.86 - ETA: 1s - loss: 0.3307 - accuracy: 0.86 - ETA: 1s - loss: 0.3301 - accuracy: 0.86 - ETA: 1s - loss: 0.3300 - accuracy: 0.86 - ETA: 1s - loss: 0.3298 - accuracy: 0.86 - ETA: 0s - loss: 0.3298 - accuracy: 0.86 - ETA: 0s - loss: 0.3303 - accuracy: 0.86 - ETA: 0s - loss: 0.3304 - accuracy: 0.86 - ETA: 0s - loss: 0.3300 - accuracy: 0.86 - ETA: 0s - loss: 0.3296 - accuracy: 0.86 - ETA: 0s - loss: 0.3292 - accuracy: 0.86 - ETA: 0s - loss: 0.3291 - accuracy: 0.86 - ETA: 0s - loss: 0.3289 - accuracy: 0.86 - ETA: 0s - loss: 0.3284 - accuracy: 0.86 - ETA: 0s - loss: 0.3275 - accuracy: 0.86 - ETA: 0s - loss: 0.3274 - accuracy: 0.86 - ETA: 0s - loss: 0.3273 - accuracy: 0.86 - ETA: 0s - loss: 0.3266 - accuracy: 0.86 - ETA: 0s - loss: 0.3274 - accuracy: 0.86 - ETA: 0s - loss: 0.3271 - accuracy: 0.86 - ETA: 0s - loss: 0.3273 - accuracy: 0.86 - ETA: 0s - loss: 0.3270 - accuracy: 0.86 - ETA: 0s - loss: 0.3268 - accuracy: 0.86 - ETA: 0s - loss: 0.3265 - accuracy: 0.86 - ETA: 0s - loss: 0.3263 - accuracy: 0.86 - 9s 345us/sample - loss: 0.3265 - accuracy: 0.8642 - val_loss: 0.3313 - val_accuracy: 0.8570\n",
      "Epoch 3/10\n"
     ]
    },
    {
     "name": "stdout",
     "output_type": "stream",
     "text": [
      "25000/25000 [==============================] - ETA: 8s - loss: 0.2772 - accuracy: 0.93 - ETA: 7s - loss: 0.3285 - accuracy: 0.87 - ETA: 6s - loss: 0.3151 - accuracy: 0.87 - ETA: 7s - loss: 0.3024 - accuracy: 0.87 - ETA: 7s - loss: 0.3083 - accuracy: 0.87 - ETA: 7s - loss: 0.3225 - accuracy: 0.86 - ETA: 7s - loss: 0.3250 - accuracy: 0.86 - ETA: 7s - loss: 0.3160 - accuracy: 0.86 - ETA: 7s - loss: 0.3107 - accuracy: 0.87 - ETA: 6s - loss: 0.2972 - accuracy: 0.88 - ETA: 6s - loss: 0.2910 - accuracy: 0.88 - ETA: 6s - loss: 0.2878 - accuracy: 0.88 - ETA: 6s - loss: 0.2852 - accuracy: 0.88 - ETA: 5s - loss: 0.2844 - accuracy: 0.88 - ETA: 5s - loss: 0.2801 - accuracy: 0.88 - ETA: 5s - loss: 0.2820 - accuracy: 0.88 - ETA: 5s - loss: 0.2857 - accuracy: 0.88 - ETA: 5s - loss: 0.2888 - accuracy: 0.88 - ETA: 5s - loss: 0.2863 - accuracy: 0.88 - ETA: 5s - loss: 0.2872 - accuracy: 0.88 - ETA: 5s - loss: 0.2884 - accuracy: 0.88 - ETA: 5s - loss: 0.2889 - accuracy: 0.88 - ETA: 5s - loss: 0.2861 - accuracy: 0.88 - ETA: 5s - loss: 0.2858 - accuracy: 0.88 - ETA: 5s - loss: 0.2864 - accuracy: 0.88 - ETA: 4s - loss: 0.2858 - accuracy: 0.88 - ETA: 4s - loss: 0.2828 - accuracy: 0.88 - ETA: 4s - loss: 0.2799 - accuracy: 0.88 - ETA: 4s - loss: 0.2787 - accuracy: 0.88 - ETA: 4s - loss: 0.2804 - accuracy: 0.88 - ETA: 4s - loss: 0.2788 - accuracy: 0.88 - ETA: 4s - loss: 0.2782 - accuracy: 0.88 - ETA: 4s - loss: 0.2757 - accuracy: 0.88 - ETA: 4s - loss: 0.2771 - accuracy: 0.88 - ETA: 4s - loss: 0.2765 - accuracy: 0.88 - ETA: 4s - loss: 0.2770 - accuracy: 0.88 - ETA: 4s - loss: 0.2759 - accuracy: 0.88 - ETA: 3s - loss: 0.2740 - accuracy: 0.89 - ETA: 3s - loss: 0.2740 - accuracy: 0.89 - ETA: 3s - loss: 0.2748 - accuracy: 0.88 - ETA: 3s - loss: 0.2741 - accuracy: 0.89 - ETA: 3s - loss: 0.2742 - accuracy: 0.89 - ETA: 3s - loss: 0.2741 - accuracy: 0.89 - ETA: 3s - loss: 0.2738 - accuracy: 0.89 - ETA: 3s - loss: 0.2732 - accuracy: 0.89 - ETA: 3s - loss: 0.2740 - accuracy: 0.88 - ETA: 3s - loss: 0.2735 - accuracy: 0.89 - ETA: 3s - loss: 0.2728 - accuracy: 0.88 - ETA: 3s - loss: 0.2726 - accuracy: 0.88 - ETA: 3s - loss: 0.2732 - accuracy: 0.88 - ETA: 3s - loss: 0.2730 - accuracy: 0.89 - ETA: 2s - loss: 0.2730 - accuracy: 0.89 - ETA: 2s - loss: 0.2734 - accuracy: 0.88 - ETA: 2s - loss: 0.2732 - accuracy: 0.88 - ETA: 2s - loss: 0.2731 - accuracy: 0.88 - ETA: 2s - loss: 0.2721 - accuracy: 0.89 - ETA: 2s - loss: 0.2721 - accuracy: 0.89 - ETA: 2s - loss: 0.2725 - accuracy: 0.89 - ETA: 2s - loss: 0.2721 - accuracy: 0.89 - ETA: 2s - loss: 0.2711 - accuracy: 0.89 - ETA: 2s - loss: 0.2705 - accuracy: 0.89 - ETA: 2s - loss: 0.2696 - accuracy: 0.89 - ETA: 2s - loss: 0.2688 - accuracy: 0.89 - ETA: 2s - loss: 0.2677 - accuracy: 0.89 - ETA: 2s - loss: 0.2680 - accuracy: 0.89 - ETA: 2s - loss: 0.2674 - accuracy: 0.89 - ETA: 2s - loss: 0.2671 - accuracy: 0.89 - ETA: 2s - loss: 0.2674 - accuracy: 0.89 - ETA: 2s - loss: 0.2668 - accuracy: 0.89 - ETA: 1s - loss: 0.2657 - accuracy: 0.89 - ETA: 1s - loss: 0.2656 - accuracy: 0.89 - ETA: 1s - loss: 0.2651 - accuracy: 0.89 - ETA: 1s - loss: 0.2655 - accuracy: 0.89 - ETA: 1s - loss: 0.2657 - accuracy: 0.89 - ETA: 1s - loss: 0.2658 - accuracy: 0.89 - ETA: 1s - loss: 0.2656 - accuracy: 0.89 - ETA: 1s - loss: 0.2650 - accuracy: 0.89 - ETA: 1s - loss: 0.2658 - accuracy: 0.89 - ETA: 1s - loss: 0.2662 - accuracy: 0.89 - ETA: 1s - loss: 0.2669 - accuracy: 0.89 - ETA: 1s - loss: 0.2672 - accuracy: 0.89 - ETA: 1s - loss: 0.2672 - accuracy: 0.89 - ETA: 1s - loss: 0.2672 - accuracy: 0.89 - ETA: 1s - loss: 0.2662 - accuracy: 0.89 - ETA: 1s - loss: 0.2659 - accuracy: 0.89 - ETA: 1s - loss: 0.2655 - accuracy: 0.89 - ETA: 1s - loss: 0.2653 - accuracy: 0.89 - ETA: 1s - loss: 0.2659 - accuracy: 0.89 - ETA: 1s - loss: 0.2662 - accuracy: 0.89 - ETA: 1s - loss: 0.2657 - accuracy: 0.89 - ETA: 0s - loss: 0.2657 - accuracy: 0.89 - ETA: 0s - loss: 0.2657 - accuracy: 0.89 - ETA: 0s - loss: 0.2657 - accuracy: 0.89 - ETA: 0s - loss: 0.2660 - accuracy: 0.89 - ETA: 0s - loss: 0.2657 - accuracy: 0.89 - ETA: 0s - loss: 0.2659 - accuracy: 0.89 - ETA: 0s - loss: 0.2651 - accuracy: 0.89 - ETA: 0s - loss: 0.2652 - accuracy: 0.89 - ETA: 0s - loss: 0.2653 - accuracy: 0.89 - ETA: 0s - loss: 0.2654 - accuracy: 0.89 - ETA: 0s - loss: 0.2651 - accuracy: 0.89 - ETA: 0s - loss: 0.2653 - accuracy: 0.89 - ETA: 0s - loss: 0.2656 - accuracy: 0.89 - ETA: 0s - loss: 0.2659 - accuracy: 0.89 - ETA: 0s - loss: 0.2658 - accuracy: 0.89 - ETA: 0s - loss: 0.2660 - accuracy: 0.89 - ETA: 0s - loss: 0.2656 - accuracy: 0.89 - ETA: 0s - loss: 0.2661 - accuracy: 0.89 - ETA: 0s - loss: 0.2661 - accuracy: 0.89 - 8s 322us/sample - loss: 0.2662 - accuracy: 0.8930 - val_loss: 0.3324 - val_accuracy: 0.8566\n",
      "Epoch 4/10\n"
     ]
    },
    {
     "name": "stdout",
     "output_type": "stream",
     "text": [
      "25000/25000 [==============================] - ETA: 11s - loss: 0.2189 - accuracy: 0.937 - ETA: 6s - loss: 0.2231 - accuracy: 0.933 - ETA: 7s - loss: 0.2315 - accuracy: 0.91 - ETA: 6s - loss: 0.2166 - accuracy: 0.92 - ETA: 6s - loss: 0.2087 - accuracy: 0.92 - ETA: 6s - loss: 0.2176 - accuracy: 0.92 - ETA: 6s - loss: 0.2260 - accuracy: 0.92 - ETA: 5s - loss: 0.2219 - accuracy: 0.92 - ETA: 5s - loss: 0.2178 - accuracy: 0.92 - ETA: 5s - loss: 0.2199 - accuracy: 0.92 - ETA: 5s - loss: 0.2277 - accuracy: 0.92 - ETA: 5s - loss: 0.2276 - accuracy: 0.91 - ETA: 5s - loss: 0.2290 - accuracy: 0.91 - ETA: 5s - loss: 0.2314 - accuracy: 0.91 - ETA: 5s - loss: 0.2347 - accuracy: 0.91 - ETA: 5s - loss: 0.2343 - accuracy: 0.91 - ETA: 5s - loss: 0.2311 - accuracy: 0.91 - ETA: 5s - loss: 0.2302 - accuracy: 0.91 - ETA: 5s - loss: 0.2343 - accuracy: 0.91 - ETA: 5s - loss: 0.2361 - accuracy: 0.91 - ETA: 5s - loss: 0.2345 - accuracy: 0.91 - ETA: 5s - loss: 0.2358 - accuracy: 0.91 - ETA: 5s - loss: 0.2348 - accuracy: 0.91 - ETA: 5s - loss: 0.2344 - accuracy: 0.91 - ETA: 5s - loss: 0.2338 - accuracy: 0.91 - ETA: 5s - loss: 0.2341 - accuracy: 0.91 - ETA: 5s - loss: 0.2334 - accuracy: 0.91 - ETA: 5s - loss: 0.2345 - accuracy: 0.91 - ETA: 5s - loss: 0.2331 - accuracy: 0.91 - ETA: 5s - loss: 0.2334 - accuracy: 0.91 - ETA: 5s - loss: 0.2315 - accuracy: 0.91 - ETA: 5s - loss: 0.2296 - accuracy: 0.91 - ETA: 5s - loss: 0.2288 - accuracy: 0.91 - ETA: 5s - loss: 0.2277 - accuracy: 0.91 - ETA: 5s - loss: 0.2279 - accuracy: 0.91 - ETA: 5s - loss: 0.2266 - accuracy: 0.91 - ETA: 5s - loss: 0.2274 - accuracy: 0.91 - ETA: 5s - loss: 0.2269 - accuracy: 0.91 - ETA: 4s - loss: 0.2267 - accuracy: 0.91 - ETA: 4s - loss: 0.2264 - accuracy: 0.91 - ETA: 4s - loss: 0.2264 - accuracy: 0.91 - ETA: 4s - loss: 0.2268 - accuracy: 0.91 - ETA: 4s - loss: 0.2271 - accuracy: 0.91 - ETA: 4s - loss: 0.2273 - accuracy: 0.91 - ETA: 4s - loss: 0.2263 - accuracy: 0.91 - ETA: 4s - loss: 0.2245 - accuracy: 0.91 - ETA: 4s - loss: 0.2247 - accuracy: 0.91 - ETA: 4s - loss: 0.2238 - accuracy: 0.91 - ETA: 4s - loss: 0.2253 - accuracy: 0.91 - ETA: 4s - loss: 0.2258 - accuracy: 0.91 - ETA: 4s - loss: 0.2273 - accuracy: 0.91 - ETA: 3s - loss: 0.2266 - accuracy: 0.91 - ETA: 3s - loss: 0.2257 - accuracy: 0.91 - ETA: 3s - loss: 0.2265 - accuracy: 0.91 - ETA: 3s - loss: 0.2267 - accuracy: 0.91 - ETA: 3s - loss: 0.2270 - accuracy: 0.91 - ETA: 3s - loss: 0.2270 - accuracy: 0.91 - ETA: 3s - loss: 0.2267 - accuracy: 0.91 - ETA: 3s - loss: 0.2264 - accuracy: 0.91 - ETA: 3s - loss: 0.2256 - accuracy: 0.91 - ETA: 3s - loss: 0.2264 - accuracy: 0.91 - ETA: 3s - loss: 0.2264 - accuracy: 0.91 - ETA: 3s - loss: 0.2259 - accuracy: 0.91 - ETA: 3s - loss: 0.2261 - accuracy: 0.91 - ETA: 3s - loss: 0.2262 - accuracy: 0.91 - ETA: 3s - loss: 0.2262 - accuracy: 0.91 - ETA: 3s - loss: 0.2260 - accuracy: 0.91 - ETA: 3s - loss: 0.2263 - accuracy: 0.91 - ETA: 3s - loss: 0.2267 - accuracy: 0.91 - ETA: 3s - loss: 0.2270 - accuracy: 0.91 - ETA: 3s - loss: 0.2266 - accuracy: 0.91 - ETA: 3s - loss: 0.2263 - accuracy: 0.91 - ETA: 3s - loss: 0.2258 - accuracy: 0.91 - ETA: 3s - loss: 0.2254 - accuracy: 0.91 - ETA: 2s - loss: 0.2258 - accuracy: 0.91 - ETA: 2s - loss: 0.2270 - accuracy: 0.91 - ETA: 2s - loss: 0.2268 - accuracy: 0.91 - ETA: 2s - loss: 0.2262 - accuracy: 0.91 - ETA: 2s - loss: 0.2262 - accuracy: 0.91 - ETA: 2s - loss: 0.2271 - accuracy: 0.91 - ETA: 2s - loss: 0.2276 - accuracy: 0.91 - ETA: 2s - loss: 0.2271 - accuracy: 0.91 - ETA: 2s - loss: 0.2266 - accuracy: 0.91 - ETA: 2s - loss: 0.2281 - accuracy: 0.91 - ETA: 2s - loss: 0.2281 - accuracy: 0.91 - ETA: 2s - loss: 0.2287 - accuracy: 0.91 - ETA: 2s - loss: 0.2285 - accuracy: 0.91 - ETA: 2s - loss: 0.2284 - accuracy: 0.91 - ETA: 2s - loss: 0.2279 - accuracy: 0.91 - ETA: 1s - loss: 0.2283 - accuracy: 0.91 - ETA: 1s - loss: 0.2290 - accuracy: 0.91 - ETA: 1s - loss: 0.2286 - accuracy: 0.91 - ETA: 1s - loss: 0.2285 - accuracy: 0.91 - ETA: 1s - loss: 0.2281 - accuracy: 0.91 - ETA: 1s - loss: 0.2285 - accuracy: 0.91 - ETA: 1s - loss: 0.2290 - accuracy: 0.91 - ETA: 1s - loss: 0.2290 - accuracy: 0.91 - ETA: 1s - loss: 0.2286 - accuracy: 0.91 - ETA: 1s - loss: 0.2285 - accuracy: 0.91 - ETA: 1s - loss: 0.2281 - accuracy: 0.91 - ETA: 1s - loss: 0.2284 - accuracy: 0.91 - ETA: 1s - loss: 0.2286 - accuracy: 0.91 - ETA: 1s - loss: 0.2287 - accuracy: 0.91 - ETA: 1s - loss: 0.2292 - accuracy: 0.91 - ETA: 0s - loss: 0.2292 - accuracy: 0.91 - ETA: 0s - loss: 0.2290 - accuracy: 0.91 - ETA: 0s - loss: 0.2293 - accuracy: 0.91 - ETA: 0s - loss: 0.2293 - accuracy: 0.91 - ETA: 0s - loss: 0.2289 - accuracy: 0.91 - ETA: 0s - loss: 0.2287 - accuracy: 0.91 - ETA: 0s - loss: 0.2290 - accuracy: 0.91 - ETA: 0s - loss: 0.2294 - accuracy: 0.91 - ETA: 0s - loss: 0.2289 - accuracy: 0.91 - ETA: 0s - loss: 0.2292 - accuracy: 0.91 - ETA: 0s - loss: 0.2295 - accuracy: 0.91 - ETA: 0s - loss: 0.2293 - accuracy: 0.91 - ETA: 0s - loss: 0.2291 - accuracy: 0.91 - ETA: 0s - loss: 0.2295 - accuracy: 0.91 - ETA: 0s - loss: 0.2296 - accuracy: 0.91 - ETA: 0s - loss: 0.2296 - accuracy: 0.91 - ETA: 0s - loss: 0.2300 - accuracy: 0.91 - ETA: 0s - loss: 0.2297 - accuracy: 0.91 - ETA: 0s - loss: 0.2299 - accuracy: 0.91 - ETA: 0s - loss: 0.2304 - accuracy: 0.91 - 9s 349us/sample - loss: 0.2304 - accuracy: 0.9116 - val_loss: 0.3509 - val_accuracy: 0.8502\n",
      "Epoch 5/10\n"
     ]
    },
    {
     "name": "stdout",
     "output_type": "stream",
     "text": [
      "25000/25000 [==============================] - ETA: 11s - loss: 0.2297 - accuracy: 0.906 - ETA: 15s - loss: 0.1896 - accuracy: 0.937 - ETA: 11s - loss: 0.1784 - accuracy: 0.937 - ETA: 10s - loss: 0.1743 - accuracy: 0.942 - ETA: 9s - loss: 0.1657 - accuracy: 0.940 - ETA: 8s - loss: 0.1699 - accuracy: 0.93 - ETA: 7s - loss: 0.1763 - accuracy: 0.93 - ETA: 7s - loss: 0.1803 - accuracy: 0.93 - ETA: 7s - loss: 0.1887 - accuracy: 0.93 - ETA: 6s - loss: 0.1924 - accuracy: 0.92 - ETA: 6s - loss: 0.1918 - accuracy: 0.92 - ETA: 6s - loss: 0.1914 - accuracy: 0.92 - ETA: 6s - loss: 0.1923 - accuracy: 0.92 - ETA: 6s - loss: 0.1874 - accuracy: 0.93 - ETA: 5s - loss: 0.1871 - accuracy: 0.93 - ETA: 5s - loss: 0.1865 - accuracy: 0.93 - ETA: 5s - loss: 0.1876 - accuracy: 0.93 - ETA: 5s - loss: 0.1870 - accuracy: 0.93 - ETA: 5s - loss: 0.1865 - accuracy: 0.93 - ETA: 5s - loss: 0.1840 - accuracy: 0.93 - ETA: 5s - loss: 0.1838 - accuracy: 0.93 - ETA: 5s - loss: 0.1836 - accuracy: 0.93 - ETA: 5s - loss: 0.1836 - accuracy: 0.93 - ETA: 5s - loss: 0.1829 - accuracy: 0.93 - ETA: 5s - loss: 0.1825 - accuracy: 0.93 - ETA: 5s - loss: 0.1827 - accuracy: 0.93 - ETA: 4s - loss: 0.1829 - accuracy: 0.93 - ETA: 4s - loss: 0.1833 - accuracy: 0.93 - ETA: 4s - loss: 0.1853 - accuracy: 0.93 - ETA: 4s - loss: 0.1875 - accuracy: 0.93 - ETA: 4s - loss: 0.1893 - accuracy: 0.92 - ETA: 4s - loss: 0.1891 - accuracy: 0.93 - ETA: 4s - loss: 0.1889 - accuracy: 0.92 - ETA: 4s - loss: 0.1884 - accuracy: 0.92 - ETA: 4s - loss: 0.1888 - accuracy: 0.92 - ETA: 4s - loss: 0.1897 - accuracy: 0.93 - ETA: 4s - loss: 0.1889 - accuracy: 0.93 - ETA: 4s - loss: 0.1881 - accuracy: 0.93 - ETA: 4s - loss: 0.1885 - accuracy: 0.93 - ETA: 4s - loss: 0.1881 - accuracy: 0.93 - ETA: 4s - loss: 0.1882 - accuracy: 0.93 - ETA: 4s - loss: 0.1889 - accuracy: 0.93 - ETA: 4s - loss: 0.1889 - accuracy: 0.93 - ETA: 4s - loss: 0.1880 - accuracy: 0.93 - ETA: 4s - loss: 0.1881 - accuracy: 0.93 - ETA: 4s - loss: 0.1897 - accuracy: 0.93 - ETA: 4s - loss: 0.1910 - accuracy: 0.92 - ETA: 3s - loss: 0.1910 - accuracy: 0.92 - ETA: 3s - loss: 0.1915 - accuracy: 0.92 - ETA: 3s - loss: 0.1916 - accuracy: 0.92 - ETA: 3s - loss: 0.1919 - accuracy: 0.92 - ETA: 3s - loss: 0.1916 - accuracy: 0.93 - ETA: 3s - loss: 0.1917 - accuracy: 0.93 - ETA: 3s - loss: 0.1911 - accuracy: 0.93 - ETA: 3s - loss: 0.1910 - accuracy: 0.93 - ETA: 3s - loss: 0.1910 - accuracy: 0.93 - ETA: 3s - loss: 0.1906 - accuracy: 0.93 - ETA: 3s - loss: 0.1912 - accuracy: 0.93 - ETA: 3s - loss: 0.1920 - accuracy: 0.93 - ETA: 3s - loss: 0.1922 - accuracy: 0.93 - ETA: 3s - loss: 0.1931 - accuracy: 0.92 - ETA: 3s - loss: 0.1932 - accuracy: 0.92 - ETA: 3s - loss: 0.1927 - accuracy: 0.92 - ETA: 3s - loss: 0.1928 - accuracy: 0.93 - ETA: 3s - loss: 0.1925 - accuracy: 0.92 - ETA: 3s - loss: 0.1925 - accuracy: 0.92 - ETA: 2s - loss: 0.1932 - accuracy: 0.92 - ETA: 2s - loss: 0.1929 - accuracy: 0.92 - ETA: 2s - loss: 0.1933 - accuracy: 0.92 - ETA: 2s - loss: 0.1942 - accuracy: 0.92 - ETA: 2s - loss: 0.1954 - accuracy: 0.92 - ETA: 2s - loss: 0.1953 - accuracy: 0.92 - ETA: 2s - loss: 0.1948 - accuracy: 0.92 - ETA: 2s - loss: 0.1948 - accuracy: 0.92 - ETA: 2s - loss: 0.1949 - accuracy: 0.92 - ETA: 2s - loss: 0.1957 - accuracy: 0.92 - ETA: 2s - loss: 0.1956 - accuracy: 0.92 - ETA: 2s - loss: 0.1959 - accuracy: 0.92 - ETA: 2s - loss: 0.1958 - accuracy: 0.92 - ETA: 2s - loss: 0.1963 - accuracy: 0.92 - ETA: 2s - loss: 0.1961 - accuracy: 0.92 - ETA: 2s - loss: 0.1966 - accuracy: 0.92 - ETA: 1s - loss: 0.1961 - accuracy: 0.92 - ETA: 1s - loss: 0.1968 - accuracy: 0.92 - ETA: 1s - loss: 0.1967 - accuracy: 0.92 - ETA: 1s - loss: 0.1965 - accuracy: 0.92 - ETA: 1s - loss: 0.1971 - accuracy: 0.92 - ETA: 1s - loss: 0.1971 - accuracy: 0.92 - ETA: 1s - loss: 0.1980 - accuracy: 0.92 - ETA: 1s - loss: 0.1990 - accuracy: 0.92 - ETA: 1s - loss: 0.1989 - accuracy: 0.92 - ETA: 1s - loss: 0.1987 - accuracy: 0.92 - ETA: 1s - loss: 0.2000 - accuracy: 0.92 - ETA: 1s - loss: 0.1996 - accuracy: 0.92 - ETA: 1s - loss: 0.1999 - accuracy: 0.92 - ETA: 1s - loss: 0.1997 - accuracy: 0.92 - ETA: 1s - loss: 0.2003 - accuracy: 0.92 - ETA: 1s - loss: 0.1998 - accuracy: 0.92 - ETA: 0s - loss: 0.2006 - accuracy: 0.92 - ETA: 0s - loss: 0.2011 - accuracy: 0.92 - ETA: 0s - loss: 0.2011 - accuracy: 0.92 - ETA: 0s - loss: 0.2010 - accuracy: 0.92 - ETA: 0s - loss: 0.2016 - accuracy: 0.92 - ETA: 0s - loss: 0.2018 - accuracy: 0.92 - ETA: 0s - loss: 0.2022 - accuracy: 0.92 - ETA: 0s - loss: 0.2023 - accuracy: 0.92 - ETA: 0s - loss: 0.2023 - accuracy: 0.92 - ETA: 0s - loss: 0.2030 - accuracy: 0.92 - ETA: 0s - loss: 0.2029 - accuracy: 0.92 - ETA: 0s - loss: 0.2031 - accuracy: 0.92 - ETA: 0s - loss: 0.2032 - accuracy: 0.92 - ETA: 0s - loss: 0.2032 - accuracy: 0.92 - ETA: 0s - loss: 0.2037 - accuracy: 0.92 - ETA: 0s - loss: 0.2036 - accuracy: 0.92 - ETA: 0s - loss: 0.2045 - accuracy: 0.92 - ETA: 0s - loss: 0.2053 - accuracy: 0.92 - ETA: 0s - loss: 0.2052 - accuracy: 0.92 - 8s 332us/sample - loss: 0.2053 - accuracy: 0.9227 - val_loss: 0.3717 - val_accuracy: 0.8453\n",
      "Epoch 6/10\n"
     ]
    },
    {
     "name": "stdout",
     "output_type": "stream",
     "text": [
      "25000/25000 [==============================] - ETA: 6s - loss: 0.1768 - accuracy: 0.90 - ETA: 6s - loss: 0.1559 - accuracy: 0.94 - ETA: 6s - loss: 0.1721 - accuracy: 0.93 - ETA: 6s - loss: 0.1720 - accuracy: 0.94 - ETA: 6s - loss: 0.1639 - accuracy: 0.94 - ETA: 5s - loss: 0.1666 - accuracy: 0.94 - ETA: 5s - loss: 0.1698 - accuracy: 0.93 - ETA: 5s - loss: 0.1737 - accuracy: 0.93 - ETA: 5s - loss: 0.1813 - accuracy: 0.93 - ETA: 5s - loss: 0.1775 - accuracy: 0.93 - ETA: 5s - loss: 0.1746 - accuracy: 0.93 - ETA: 5s - loss: 0.1717 - accuracy: 0.93 - ETA: 5s - loss: 0.1698 - accuracy: 0.93 - ETA: 5s - loss: 0.1706 - accuracy: 0.93 - ETA: 5s - loss: 0.1704 - accuracy: 0.93 - ETA: 5s - loss: 0.1692 - accuracy: 0.93 - ETA: 5s - loss: 0.1714 - accuracy: 0.93 - ETA: 4s - loss: 0.1701 - accuracy: 0.93 - ETA: 4s - loss: 0.1704 - accuracy: 0.93 - ETA: 4s - loss: 0.1704 - accuracy: 0.93 - ETA: 4s - loss: 0.1695 - accuracy: 0.93 - ETA: 4s - loss: 0.1702 - accuracy: 0.93 - ETA: 4s - loss: 0.1700 - accuracy: 0.93 - ETA: 4s - loss: 0.1706 - accuracy: 0.93 - ETA: 4s - loss: 0.1705 - accuracy: 0.93 - ETA: 4s - loss: 0.1700 - accuracy: 0.93 - ETA: 4s - loss: 0.1738 - accuracy: 0.93 - ETA: 4s - loss: 0.1738 - accuracy: 0.93 - ETA: 4s - loss: 0.1741 - accuracy: 0.93 - ETA: 4s - loss: 0.1760 - accuracy: 0.93 - ETA: 4s - loss: 0.1765 - accuracy: 0.93 - ETA: 4s - loss: 0.1765 - accuracy: 0.93 - ETA: 4s - loss: 0.1761 - accuracy: 0.93 - ETA: 3s - loss: 0.1767 - accuracy: 0.93 - ETA: 3s - loss: 0.1764 - accuracy: 0.93 - ETA: 3s - loss: 0.1766 - accuracy: 0.93 - ETA: 3s - loss: 0.1759 - accuracy: 0.93 - ETA: 3s - loss: 0.1761 - accuracy: 0.93 - ETA: 3s - loss: 0.1754 - accuracy: 0.93 - ETA: 3s - loss: 0.1749 - accuracy: 0.93 - ETA: 3s - loss: 0.1760 - accuracy: 0.93 - ETA: 3s - loss: 0.1768 - accuracy: 0.93 - ETA: 3s - loss: 0.1755 - accuracy: 0.93 - ETA: 3s - loss: 0.1764 - accuracy: 0.93 - ETA: 3s - loss: 0.1757 - accuracy: 0.93 - ETA: 3s - loss: 0.1767 - accuracy: 0.93 - ETA: 3s - loss: 0.1771 - accuracy: 0.93 - ETA: 3s - loss: 0.1780 - accuracy: 0.93 - ETA: 3s - loss: 0.1782 - accuracy: 0.93 - ETA: 3s - loss: 0.1777 - accuracy: 0.93 - ETA: 3s - loss: 0.1770 - accuracy: 0.93 - ETA: 3s - loss: 0.1765 - accuracy: 0.93 - ETA: 3s - loss: 0.1759 - accuracy: 0.93 - ETA: 3s - loss: 0.1753 - accuracy: 0.93 - ETA: 3s - loss: 0.1757 - accuracy: 0.93 - ETA: 2s - loss: 0.1751 - accuracy: 0.93 - ETA: 2s - loss: 0.1753 - accuracy: 0.93 - ETA: 2s - loss: 0.1745 - accuracy: 0.93 - ETA: 2s - loss: 0.1746 - accuracy: 0.93 - ETA: 2s - loss: 0.1747 - accuracy: 0.93 - ETA: 2s - loss: 0.1758 - accuracy: 0.93 - ETA: 2s - loss: 0.1763 - accuracy: 0.93 - ETA: 2s - loss: 0.1768 - accuracy: 0.93 - ETA: 2s - loss: 0.1777 - accuracy: 0.93 - ETA: 2s - loss: 0.1774 - accuracy: 0.93 - ETA: 2s - loss: 0.1777 - accuracy: 0.93 - ETA: 2s - loss: 0.1776 - accuracy: 0.93 - ETA: 2s - loss: 0.1771 - accuracy: 0.93 - ETA: 2s - loss: 0.1776 - accuracy: 0.93 - ETA: 2s - loss: 0.1783 - accuracy: 0.93 - ETA: 2s - loss: 0.1779 - accuracy: 0.93 - ETA: 1s - loss: 0.1786 - accuracy: 0.93 - ETA: 1s - loss: 0.1793 - accuracy: 0.93 - ETA: 1s - loss: 0.1789 - accuracy: 0.93 - ETA: 1s - loss: 0.1796 - accuracy: 0.93 - ETA: 1s - loss: 0.1789 - accuracy: 0.93 - ETA: 1s - loss: 0.1790 - accuracy: 0.93 - ETA: 1s - loss: 0.1794 - accuracy: 0.93 - ETA: 1s - loss: 0.1798 - accuracy: 0.93 - ETA: 1s - loss: 0.1797 - accuracy: 0.93 - ETA: 1s - loss: 0.1794 - accuracy: 0.93 - ETA: 1s - loss: 0.1796 - accuracy: 0.93 - ETA: 1s - loss: 0.1801 - accuracy: 0.93 - ETA: 1s - loss: 0.1803 - accuracy: 0.93 - ETA: 1s - loss: 0.1804 - accuracy: 0.93 - ETA: 1s - loss: 0.1806 - accuracy: 0.93 - ETA: 1s - loss: 0.1816 - accuracy: 0.93 - ETA: 1s - loss: 0.1825 - accuracy: 0.93 - ETA: 1s - loss: 0.1841 - accuracy: 0.93 - ETA: 1s - loss: 0.1839 - accuracy: 0.93 - ETA: 1s - loss: 0.1838 - accuracy: 0.93 - ETA: 1s - loss: 0.1839 - accuracy: 0.93 - ETA: 1s - loss: 0.1840 - accuracy: 0.93 - ETA: 0s - loss: 0.1835 - accuracy: 0.93 - ETA: 0s - loss: 0.1830 - accuracy: 0.93 - ETA: 0s - loss: 0.1829 - accuracy: 0.93 - ETA: 0s - loss: 0.1827 - accuracy: 0.93 - ETA: 0s - loss: 0.1830 - accuracy: 0.93 - ETA: 0s - loss: 0.1824 - accuracy: 0.93 - ETA: 0s - loss: 0.1828 - accuracy: 0.93 - ETA: 0s - loss: 0.1828 - accuracy: 0.93 - ETA: 0s - loss: 0.1832 - accuracy: 0.93 - ETA: 0s - loss: 0.1828 - accuracy: 0.93 - ETA: 0s - loss: 0.1825 - accuracy: 0.93 - ETA: 0s - loss: 0.1826 - accuracy: 0.93 - ETA: 0s - loss: 0.1829 - accuracy: 0.93 - ETA: 0s - loss: 0.1834 - accuracy: 0.93 - ETA: 0s - loss: 0.1835 - accuracy: 0.93 - ETA: 0s - loss: 0.1835 - accuracy: 0.93 - ETA: 0s - loss: 0.1835 - accuracy: 0.93 - ETA: 0s - loss: 0.1838 - accuracy: 0.93 - 8s 319us/sample - loss: 0.1838 - accuracy: 0.9331 - val_loss: 0.4021 - val_accuracy: 0.8402\n",
      "Epoch 7/10\n"
     ]
    },
    {
     "name": "stdout",
     "output_type": "stream",
     "text": [
      "25000/25000 [==============================] - ETA: 10s - loss: 0.1093 - accuracy: 0.968 - ETA: 6s - loss: 0.1893 - accuracy: 0.941 - ETA: 6s - loss: 0.1676 - accuracy: 0.94 - ETA: 6s - loss: 0.1559 - accuracy: 0.94 - ETA: 6s - loss: 0.1456 - accuracy: 0.95 - ETA: 6s - loss: 0.1582 - accuracy: 0.94 - ETA: 5s - loss: 0.1503 - accuracy: 0.95 - ETA: 5s - loss: 0.1506 - accuracy: 0.95 - ETA: 5s - loss: 0.1464 - accuracy: 0.95 - ETA: 5s - loss: 0.1436 - accuracy: 0.95 - ETA: 5s - loss: 0.1433 - accuracy: 0.95 - ETA: 5s - loss: 0.1424 - accuracy: 0.95 - ETA: 5s - loss: 0.1423 - accuracy: 0.95 - ETA: 5s - loss: 0.1416 - accuracy: 0.95 - ETA: 6s - loss: 0.1421 - accuracy: 0.95 - ETA: 6s - loss: 0.1419 - accuracy: 0.95 - ETA: 6s - loss: 0.1426 - accuracy: 0.95 - ETA: 5s - loss: 0.1436 - accuracy: 0.95 - ETA: 5s - loss: 0.1433 - accuracy: 0.95 - ETA: 5s - loss: 0.1417 - accuracy: 0.95 - ETA: 5s - loss: 0.1419 - accuracy: 0.95 - ETA: 5s - loss: 0.1425 - accuracy: 0.95 - ETA: 5s - loss: 0.1428 - accuracy: 0.95 - ETA: 5s - loss: 0.1428 - accuracy: 0.95 - ETA: 5s - loss: 0.1447 - accuracy: 0.95 - ETA: 5s - loss: 0.1448 - accuracy: 0.95 - ETA: 5s - loss: 0.1467 - accuracy: 0.95 - ETA: 5s - loss: 0.1448 - accuracy: 0.95 - ETA: 5s - loss: 0.1467 - accuracy: 0.95 - ETA: 5s - loss: 0.1467 - accuracy: 0.95 - ETA: 5s - loss: 0.1478 - accuracy: 0.94 - ETA: 4s - loss: 0.1491 - accuracy: 0.94 - ETA: 4s - loss: 0.1489 - accuracy: 0.95 - ETA: 4s - loss: 0.1486 - accuracy: 0.95 - ETA: 4s - loss: 0.1475 - accuracy: 0.95 - ETA: 4s - loss: 0.1480 - accuracy: 0.94 - ETA: 4s - loss: 0.1465 - accuracy: 0.95 - ETA: 4s - loss: 0.1477 - accuracy: 0.94 - ETA: 4s - loss: 0.1482 - accuracy: 0.94 - ETA: 4s - loss: 0.1476 - accuracy: 0.95 - ETA: 4s - loss: 0.1493 - accuracy: 0.95 - ETA: 4s - loss: 0.1519 - accuracy: 0.94 - ETA: 4s - loss: 0.1512 - accuracy: 0.94 - ETA: 4s - loss: 0.1529 - accuracy: 0.94 - ETA: 4s - loss: 0.1542 - accuracy: 0.94 - ETA: 3s - loss: 0.1552 - accuracy: 0.94 - ETA: 3s - loss: 0.1553 - accuracy: 0.94 - ETA: 3s - loss: 0.1565 - accuracy: 0.94 - ETA: 3s - loss: 0.1568 - accuracy: 0.94 - ETA: 3s - loss: 0.1571 - accuracy: 0.94 - ETA: 3s - loss: 0.1574 - accuracy: 0.94 - ETA: 3s - loss: 0.1567 - accuracy: 0.94 - ETA: 3s - loss: 0.1563 - accuracy: 0.94 - ETA: 3s - loss: 0.1566 - accuracy: 0.94 - ETA: 3s - loss: 0.1570 - accuracy: 0.94 - ETA: 3s - loss: 0.1566 - accuracy: 0.94 - ETA: 3s - loss: 0.1564 - accuracy: 0.94 - ETA: 3s - loss: 0.1566 - accuracy: 0.94 - ETA: 3s - loss: 0.1576 - accuracy: 0.94 - ETA: 3s - loss: 0.1576 - accuracy: 0.94 - ETA: 2s - loss: 0.1570 - accuracy: 0.94 - ETA: 2s - loss: 0.1569 - accuracy: 0.94 - ETA: 2s - loss: 0.1566 - accuracy: 0.94 - ETA: 2s - loss: 0.1567 - accuracy: 0.94 - ETA: 2s - loss: 0.1570 - accuracy: 0.94 - ETA: 2s - loss: 0.1575 - accuracy: 0.94 - ETA: 2s - loss: 0.1577 - accuracy: 0.94 - ETA: 2s - loss: 0.1572 - accuracy: 0.94 - ETA: 2s - loss: 0.1576 - accuracy: 0.94 - ETA: 2s - loss: 0.1579 - accuracy: 0.94 - ETA: 2s - loss: 0.1587 - accuracy: 0.94 - ETA: 2s - loss: 0.1589 - accuracy: 0.94 - ETA: 2s - loss: 0.1597 - accuracy: 0.94 - ETA: 2s - loss: 0.1590 - accuracy: 0.94 - ETA: 2s - loss: 0.1591 - accuracy: 0.94 - ETA: 2s - loss: 0.1597 - accuracy: 0.94 - ETA: 2s - loss: 0.1594 - accuracy: 0.94 - ETA: 2s - loss: 0.1598 - accuracy: 0.94 - ETA: 2s - loss: 0.1604 - accuracy: 0.94 - ETA: 2s - loss: 0.1605 - accuracy: 0.94 - ETA: 2s - loss: 0.1598 - accuracy: 0.94 - ETA: 2s - loss: 0.1598 - accuracy: 0.94 - ETA: 2s - loss: 0.1599 - accuracy: 0.94 - ETA: 2s - loss: 0.1599 - accuracy: 0.94 - ETA: 1s - loss: 0.1605 - accuracy: 0.94 - ETA: 1s - loss: 0.1605 - accuracy: 0.94 - ETA: 1s - loss: 0.1605 - accuracy: 0.94 - ETA: 1s - loss: 0.1604 - accuracy: 0.94 - ETA: 1s - loss: 0.1607 - accuracy: 0.94 - ETA: 1s - loss: 0.1604 - accuracy: 0.94 - ETA: 1s - loss: 0.1607 - accuracy: 0.94 - ETA: 1s - loss: 0.1605 - accuracy: 0.94 - ETA: 1s - loss: 0.1609 - accuracy: 0.94 - ETA: 1s - loss: 0.1608 - accuracy: 0.94 - ETA: 1s - loss: 0.1620 - accuracy: 0.94 - ETA: 1s - loss: 0.1621 - accuracy: 0.94 - ETA: 1s - loss: 0.1620 - accuracy: 0.94 - ETA: 1s - loss: 0.1618 - accuracy: 0.94 - ETA: 1s - loss: 0.1618 - accuracy: 0.94 - ETA: 1s - loss: 0.1619 - accuracy: 0.94 - ETA: 1s - loss: 0.1617 - accuracy: 0.94 - ETA: 1s - loss: 0.1614 - accuracy: 0.94 - ETA: 1s - loss: 0.1614 - accuracy: 0.94 - ETA: 1s - loss: 0.1622 - accuracy: 0.94 - ETA: 1s - loss: 0.1619 - accuracy: 0.94 - ETA: 0s - loss: 0.1618 - accuracy: 0.94 - ETA: 0s - loss: 0.1626 - accuracy: 0.94 - ETA: 0s - loss: 0.1627 - accuracy: 0.94 - ETA: 0s - loss: 0.1630 - accuracy: 0.94 - ETA: 0s - loss: 0.1630 - accuracy: 0.94 - ETA: 0s - loss: 0.1636 - accuracy: 0.94 - ETA: 0s - loss: 0.1636 - accuracy: 0.94 - ETA: 0s - loss: 0.1633 - accuracy: 0.94 - ETA: 0s - loss: 0.1638 - accuracy: 0.94 - ETA: 0s - loss: 0.1637 - accuracy: 0.94 - ETA: 0s - loss: 0.1637 - accuracy: 0.94 - ETA: 0s - loss: 0.1637 - accuracy: 0.94 - ETA: 0s - loss: 0.1638 - accuracy: 0.94 - ETA: 0s - loss: 0.1643 - accuracy: 0.94 - ETA: 0s - loss: 0.1644 - accuracy: 0.94 - ETA: 0s - loss: 0.1646 - accuracy: 0.94 - ETA: 0s - loss: 0.1647 - accuracy: 0.94 - ETA: 0s - loss: 0.1651 - accuracy: 0.94 - ETA: 0s - loss: 0.1651 - accuracy: 0.94 - ETA: 0s - loss: 0.1657 - accuracy: 0.94 - ETA: 0s - loss: 0.1659 - accuracy: 0.94 - ETA: 0s - loss: 0.1667 - accuracy: 0.94 - ETA: 0s - loss: 0.1669 - accuracy: 0.94 - 11s 435us/sample - loss: 0.1671 - accuracy: 0.9408 - val_loss: 0.4298 - val_accuracy: 0.8345\n",
      "Epoch 8/10\n"
     ]
    },
    {
     "name": "stdout",
     "output_type": "stream",
     "text": [
      "25000/25000 [==============================] - ETA: 9s - loss: 0.1388 - accuracy: 0.96 - ETA: 19s - loss: 0.1361 - accuracy: 0.960 - ETA: 13s - loss: 0.1316 - accuracy: 0.965 - ETA: 11s - loss: 0.1357 - accuracy: 0.962 - ETA: 11s - loss: 0.1406 - accuracy: 0.960 - ETA: 11s - loss: 0.1414 - accuracy: 0.959 - ETA: 10s - loss: 0.1330 - accuracy: 0.959 - ETA: 9s - loss: 0.1308 - accuracy: 0.959 - ETA: 9s - loss: 0.1316 - accuracy: 0.96 - ETA: 9s - loss: 0.1280 - accuracy: 0.96 - ETA: 10s - loss: 0.1367 - accuracy: 0.961 - ETA: 9s - loss: 0.1327 - accuracy: 0.963 - ETA: 10s - loss: 0.1316 - accuracy: 0.963 - ETA: 10s - loss: 0.1329 - accuracy: 0.964 - ETA: 10s - loss: 0.1317 - accuracy: 0.966 - ETA: 9s - loss: 0.1342 - accuracy: 0.965 - ETA: 9s - loss: 0.1331 - accuracy: 0.96 - ETA: 9s - loss: 0.1327 - accuracy: 0.96 - ETA: 8s - loss: 0.1353 - accuracy: 0.96 - ETA: 8s - loss: 0.1326 - accuracy: 0.96 - ETA: 8s - loss: 0.1314 - accuracy: 0.96 - ETA: 8s - loss: 0.1296 - accuracy: 0.96 - ETA: 7s - loss: 0.1307 - accuracy: 0.96 - ETA: 7s - loss: 0.1310 - accuracy: 0.96 - ETA: 7s - loss: 0.1311 - accuracy: 0.96 - ETA: 7s - loss: 0.1303 - accuracy: 0.96 - ETA: 7s - loss: 0.1304 - accuracy: 0.96 - ETA: 7s - loss: 0.1318 - accuracy: 0.96 - ETA: 7s - loss: 0.1312 - accuracy: 0.96 - ETA: 7s - loss: 0.1319 - accuracy: 0.96 - ETA: 7s - loss: 0.1308 - accuracy: 0.96 - ETA: 6s - loss: 0.1299 - accuracy: 0.96 - ETA: 6s - loss: 0.1304 - accuracy: 0.96 - ETA: 6s - loss: 0.1302 - accuracy: 0.96 - ETA: 6s - loss: 0.1307 - accuracy: 0.95 - ETA: 6s - loss: 0.1302 - accuracy: 0.96 - ETA: 6s - loss: 0.1302 - accuracy: 0.96 - ETA: 6s - loss: 0.1298 - accuracy: 0.96 - ETA: 6s - loss: 0.1303 - accuracy: 0.95 - ETA: 6s - loss: 0.1313 - accuracy: 0.95 - ETA: 6s - loss: 0.1326 - accuracy: 0.95 - ETA: 5s - loss: 0.1331 - accuracy: 0.95 - ETA: 5s - loss: 0.1341 - accuracy: 0.95 - ETA: 5s - loss: 0.1342 - accuracy: 0.95 - ETA: 5s - loss: 0.1349 - accuracy: 0.95 - ETA: 5s - loss: 0.1341 - accuracy: 0.95 - ETA: 5s - loss: 0.1344 - accuracy: 0.95 - ETA: 5s - loss: 0.1336 - accuracy: 0.95 - ETA: 5s - loss: 0.1322 - accuracy: 0.95 - ETA: 5s - loss: 0.1327 - accuracy: 0.95 - ETA: 5s - loss: 0.1333 - accuracy: 0.95 - ETA: 4s - loss: 0.1333 - accuracy: 0.95 - ETA: 4s - loss: 0.1332 - accuracy: 0.95 - ETA: 4s - loss: 0.1343 - accuracy: 0.95 - ETA: 4s - loss: 0.1348 - accuracy: 0.95 - ETA: 4s - loss: 0.1343 - accuracy: 0.95 - ETA: 4s - loss: 0.1345 - accuracy: 0.95 - ETA: 4s - loss: 0.1338 - accuracy: 0.95 - ETA: 4s - loss: 0.1337 - accuracy: 0.95 - ETA: 4s - loss: 0.1359 - accuracy: 0.95 - ETA: 4s - loss: 0.1361 - accuracy: 0.95 - ETA: 4s - loss: 0.1365 - accuracy: 0.95 - ETA: 4s - loss: 0.1357 - accuracy: 0.95 - ETA: 4s - loss: 0.1351 - accuracy: 0.95 - ETA: 4s - loss: 0.1364 - accuracy: 0.95 - ETA: 4s - loss: 0.1368 - accuracy: 0.95 - ETA: 4s - loss: 0.1368 - accuracy: 0.95 - ETA: 3s - loss: 0.1372 - accuracy: 0.95 - ETA: 3s - loss: 0.1374 - accuracy: 0.95 - ETA: 3s - loss: 0.1381 - accuracy: 0.95 - ETA: 3s - loss: 0.1385 - accuracy: 0.95 - ETA: 3s - loss: 0.1393 - accuracy: 0.95 - ETA: 3s - loss: 0.1401 - accuracy: 0.95 - ETA: 3s - loss: 0.1404 - accuracy: 0.95 - ETA: 3s - loss: 0.1404 - accuracy: 0.95 - ETA: 3s - loss: 0.1417 - accuracy: 0.95 - ETA: 3s - loss: 0.1415 - accuracy: 0.95 - ETA: 3s - loss: 0.1413 - accuracy: 0.95 - ETA: 3s - loss: 0.1418 - accuracy: 0.95 - ETA: 3s - loss: 0.1421 - accuracy: 0.95 - ETA: 3s - loss: 0.1420 - accuracy: 0.95 - ETA: 3s - loss: 0.1427 - accuracy: 0.95 - ETA: 3s - loss: 0.1426 - accuracy: 0.95 - ETA: 3s - loss: 0.1431 - accuracy: 0.95 - ETA: 3s - loss: 0.1429 - accuracy: 0.95 - ETA: 3s - loss: 0.1434 - accuracy: 0.95 - ETA: 3s - loss: 0.1433 - accuracy: 0.95 - ETA: 3s - loss: 0.1435 - accuracy: 0.95 - ETA: 3s - loss: 0.1436 - accuracy: 0.95 - ETA: 3s - loss: 0.1439 - accuracy: 0.95 - ETA: 3s - loss: 0.1440 - accuracy: 0.95 - ETA: 3s - loss: 0.1438 - accuracy: 0.95 - ETA: 3s - loss: 0.1439 - accuracy: 0.95 - ETA: 2s - loss: 0.1442 - accuracy: 0.95 - ETA: 2s - loss: 0.1450 - accuracy: 0.95 - ETA: 2s - loss: 0.1454 - accuracy: 0.95 - ETA: 2s - loss: 0.1460 - accuracy: 0.95 - ETA: 2s - loss: 0.1461 - accuracy: 0.95 - ETA: 2s - loss: 0.1461 - accuracy: 0.95 - ETA: 2s - loss: 0.1456 - accuracy: 0.95 - ETA: 2s - loss: 0.1456 - accuracy: 0.95 - ETA: 2s - loss: 0.1457 - accuracy: 0.95 - ETA: 2s - loss: 0.1457 - accuracy: 0.95 - ETA: 2s - loss: 0.1453 - accuracy: 0.95 - ETA: 2s - loss: 0.1453 - accuracy: 0.95 - ETA: 2s - loss: 0.1458 - accuracy: 0.95 - ETA: 2s - loss: 0.1460 - accuracy: 0.95 - ETA: 2s - loss: 0.1465 - accuracy: 0.95 - ETA: 1s - loss: 0.1459 - accuracy: 0.95 - ETA: 1s - loss: 0.1458 - accuracy: 0.95 - ETA: 1s - loss: 0.1464 - accuracy: 0.95 - ETA: 1s - loss: 0.1468 - accuracy: 0.95 - ETA: 1s - loss: 0.1469 - accuracy: 0.95 - ETA: 1s - loss: 0.1467 - accuracy: 0.95 - ETA: 1s - loss: 0.1471 - accuracy: 0.95 - ETA: 1s - loss: 0.1471 - accuracy: 0.95 - ETA: 1s - loss: 0.1471 - accuracy: 0.95 - ETA: 1s - loss: 0.1474 - accuracy: 0.95 - ETA: 1s - loss: 0.1475 - accuracy: 0.95 - ETA: 1s - loss: 0.1472 - accuracy: 0.95 - ETA: 1s - loss: 0.1479 - accuracy: 0.95 - ETA: 1s - loss: 0.1483 - accuracy: 0.95 - ETA: 1s - loss: 0.1486 - accuracy: 0.95 - ETA: 0s - loss: 0.1483 - accuracy: 0.95 - ETA: 0s - loss: 0.1484 - accuracy: 0.95 - ETA: 0s - loss: 0.1489 - accuracy: 0.95 - ETA: 0s - loss: 0.1489 - accuracy: 0.94 - ETA: 0s - loss: 0.1500 - accuracy: 0.94 - ETA: 0s - loss: 0.1503 - accuracy: 0.94 - ETA: 0s - loss: 0.1503 - accuracy: 0.94 - ETA: 0s - loss: 0.1507 - accuracy: 0.94 - ETA: 0s - loss: 0.1511 - accuracy: 0.94 - ETA: 0s - loss: 0.1522 - accuracy: 0.94 - ETA: 0s - loss: 0.1523 - accuracy: 0.94 - ETA: 0s - loss: 0.1523 - accuracy: 0.94 - ETA: 0s - loss: 0.1522 - accuracy: 0.94 - ETA: 0s - loss: 0.1520 - accuracy: 0.94 - 10s 390us/sample - loss: 0.1519 - accuracy: 0.9482 - val_loss: 0.4649 - val_accuracy: 0.8290\n",
      "Epoch 9/10\n"
     ]
    },
    {
     "name": "stdout",
     "output_type": "stream",
     "text": [
      "25000/25000 [==============================] - ETA: 5s - loss: 0.0539 - accuracy: 1.00 - ETA: 4s - loss: 0.1084 - accuracy: 0.96 - ETA: 4s - loss: 0.1063 - accuracy: 0.97 - ETA: 4s - loss: 0.1176 - accuracy: 0.96 - ETA: 5s - loss: 0.1224 - accuracy: 0.96 - ETA: 5s - loss: 0.1292 - accuracy: 0.96 - ETA: 5s - loss: 0.1235 - accuracy: 0.96 - ETA: 6s - loss: 0.1246 - accuracy: 0.96 - ETA: 6s - loss: 0.1222 - accuracy: 0.96 - ETA: 6s - loss: 0.1225 - accuracy: 0.96 - ETA: 6s - loss: 0.1215 - accuracy: 0.96 - ETA: 6s - loss: 0.1224 - accuracy: 0.96 - ETA: 6s - loss: 0.1205 - accuracy: 0.96 - ETA: 6s - loss: 0.1247 - accuracy: 0.96 - ETA: 6s - loss: 0.1241 - accuracy: 0.96 - ETA: 6s - loss: 0.1216 - accuracy: 0.96 - ETA: 6s - loss: 0.1229 - accuracy: 0.96 - ETA: 6s - loss: 0.1227 - accuracy: 0.96 - ETA: 6s - loss: 0.1250 - accuracy: 0.96 - ETA: 6s - loss: 0.1226 - accuracy: 0.96 - ETA: 6s - loss: 0.1206 - accuracy: 0.96 - ETA: 6s - loss: 0.1202 - accuracy: 0.96 - ETA: 6s - loss: 0.1193 - accuracy: 0.96 - ETA: 5s - loss: 0.1213 - accuracy: 0.96 - ETA: 5s - loss: 0.1203 - accuracy: 0.96 - ETA: 5s - loss: 0.1197 - accuracy: 0.96 - ETA: 5s - loss: 0.1206 - accuracy: 0.96 - ETA: 5s - loss: 0.1222 - accuracy: 0.96 - ETA: 5s - loss: 0.1218 - accuracy: 0.96 - ETA: 5s - loss: 0.1229 - accuracy: 0.96 - ETA: 5s - loss: 0.1241 - accuracy: 0.96 - ETA: 5s - loss: 0.1239 - accuracy: 0.96 - ETA: 5s - loss: 0.1231 - accuracy: 0.96 - ETA: 5s - loss: 0.1239 - accuracy: 0.96 - ETA: 5s - loss: 0.1233 - accuracy: 0.96 - ETA: 5s - loss: 0.1239 - accuracy: 0.96 - ETA: 5s - loss: 0.1232 - accuracy: 0.96 - ETA: 5s - loss: 0.1221 - accuracy: 0.96 - ETA: 5s - loss: 0.1237 - accuracy: 0.96 - ETA: 5s - loss: 0.1233 - accuracy: 0.96 - ETA: 4s - loss: 0.1239 - accuracy: 0.96 - ETA: 4s - loss: 0.1240 - accuracy: 0.96 - ETA: 4s - loss: 0.1233 - accuracy: 0.96 - ETA: 4s - loss: 0.1225 - accuracy: 0.96 - ETA: 4s - loss: 0.1227 - accuracy: 0.96 - ETA: 4s - loss: 0.1222 - accuracy: 0.96 - ETA: 4s - loss: 0.1234 - accuracy: 0.96 - ETA: 4s - loss: 0.1235 - accuracy: 0.96 - ETA: 4s - loss: 0.1229 - accuracy: 0.96 - ETA: 4s - loss: 0.1228 - accuracy: 0.96 - ETA: 4s - loss: 0.1223 - accuracy: 0.96 - ETA: 4s - loss: 0.1229 - accuracy: 0.96 - ETA: 4s - loss: 0.1237 - accuracy: 0.96 - ETA: 4s - loss: 0.1240 - accuracy: 0.96 - ETA: 4s - loss: 0.1244 - accuracy: 0.96 - ETA: 4s - loss: 0.1243 - accuracy: 0.96 - ETA: 4s - loss: 0.1240 - accuracy: 0.96 - ETA: 4s - loss: 0.1239 - accuracy: 0.96 - ETA: 4s - loss: 0.1242 - accuracy: 0.96 - ETA: 4s - loss: 0.1246 - accuracy: 0.96 - ETA: 4s - loss: 0.1244 - accuracy: 0.96 - ETA: 4s - loss: 0.1245 - accuracy: 0.96 - ETA: 4s - loss: 0.1248 - accuracy: 0.96 - ETA: 4s - loss: 0.1244 - accuracy: 0.96 - ETA: 3s - loss: 0.1255 - accuracy: 0.96 - ETA: 3s - loss: 0.1263 - accuracy: 0.96 - ETA: 3s - loss: 0.1260 - accuracy: 0.96 - ETA: 3s - loss: 0.1267 - accuracy: 0.96 - ETA: 3s - loss: 0.1274 - accuracy: 0.96 - ETA: 3s - loss: 0.1279 - accuracy: 0.96 - ETA: 3s - loss: 0.1288 - accuracy: 0.96 - ETA: 3s - loss: 0.1294 - accuracy: 0.96 - ETA: 3s - loss: 0.1301 - accuracy: 0.95 - ETA: 3s - loss: 0.1295 - accuracy: 0.95 - ETA: 3s - loss: 0.1296 - accuracy: 0.95 - ETA: 2s - loss: 0.1299 - accuracy: 0.95 - ETA: 2s - loss: 0.1302 - accuracy: 0.95 - ETA: 2s - loss: 0.1303 - accuracy: 0.95 - ETA: 2s - loss: 0.1308 - accuracy: 0.95 - ETA: 2s - loss: 0.1305 - accuracy: 0.95 - ETA: 2s - loss: 0.1314 - accuracy: 0.95 - ETA: 2s - loss: 0.1320 - accuracy: 0.95 - ETA: 2s - loss: 0.1325 - accuracy: 0.95 - ETA: 2s - loss: 0.1317 - accuracy: 0.95 - ETA: 2s - loss: 0.1323 - accuracy: 0.95 - ETA: 2s - loss: 0.1323 - accuracy: 0.95 - ETA: 2s - loss: 0.1320 - accuracy: 0.95 - ETA: 2s - loss: 0.1320 - accuracy: 0.95 - ETA: 1s - loss: 0.1323 - accuracy: 0.95 - ETA: 1s - loss: 0.1331 - accuracy: 0.95 - ETA: 1s - loss: 0.1333 - accuracy: 0.95 - ETA: 1s - loss: 0.1333 - accuracy: 0.95 - ETA: 1s - loss: 0.1341 - accuracy: 0.95 - ETA: 1s - loss: 0.1351 - accuracy: 0.95 - ETA: 1s - loss: 0.1347 - accuracy: 0.95 - ETA: 1s - loss: 0.1344 - accuracy: 0.95 - ETA: 1s - loss: 0.1344 - accuracy: 0.95 - ETA: 1s - loss: 0.1344 - accuracy: 0.95 - ETA: 1s - loss: 0.1347 - accuracy: 0.95 - ETA: 1s - loss: 0.1354 - accuracy: 0.95 - ETA: 0s - loss: 0.1358 - accuracy: 0.95 - ETA: 0s - loss: 0.1362 - accuracy: 0.95 - ETA: 0s - loss: 0.1367 - accuracy: 0.95 - ETA: 0s - loss: 0.1363 - accuracy: 0.95 - ETA: 0s - loss: 0.1365 - accuracy: 0.95 - ETA: 0s - loss: 0.1370 - accuracy: 0.95 - ETA: 0s - loss: 0.1372 - accuracy: 0.95 - ETA: 0s - loss: 0.1375 - accuracy: 0.95 - ETA: 0s - loss: 0.1378 - accuracy: 0.95 - ETA: 0s - loss: 0.1379 - accuracy: 0.95 - ETA: 0s - loss: 0.1379 - accuracy: 0.95 - ETA: 0s - loss: 0.1379 - accuracy: 0.95 - ETA: 0s - loss: 0.1382 - accuracy: 0.95 - ETA: 0s - loss: 0.1383 - accuracy: 0.95 - ETA: 0s - loss: 0.1382 - accuracy: 0.95 - ETA: 0s - loss: 0.1382 - accuracy: 0.95 - ETA: 0s - loss: 0.1381 - accuracy: 0.95 - ETA: 0s - loss: 0.1379 - accuracy: 0.95 - ETA: 0s - loss: 0.1379 - accuracy: 0.95 - ETA: 0s - loss: 0.1382 - accuracy: 0.95 - 8s 339us/sample - loss: 0.1382 - accuracy: 0.9547 - val_loss: 0.5074 - val_accuracy: 0.8251\n",
      "Epoch 10/10\n"
     ]
    },
    {
     "name": "stdout",
     "output_type": "stream",
     "text": [
      "25000/25000 [==============================] - ETA: 5s - loss: 0.0771 - accuracy: 0.96 - ETA: 4s - loss: 0.1171 - accuracy: 0.97 - ETA: 4s - loss: 0.1115 - accuracy: 0.97 - ETA: 4s - loss: 0.1106 - accuracy: 0.97 - ETA: 4s - loss: 0.1145 - accuracy: 0.97 - ETA: 4s - loss: 0.1126 - accuracy: 0.97 - ETA: 4s - loss: 0.1086 - accuracy: 0.97 - ETA: 4s - loss: 0.1039 - accuracy: 0.97 - ETA: 4s - loss: 0.1027 - accuracy: 0.97 - ETA: 4s - loss: 0.1045 - accuracy: 0.97 - ETA: 4s - loss: 0.1059 - accuracy: 0.97 - ETA: 4s - loss: 0.1058 - accuracy: 0.97 - ETA: 4s - loss: 0.1081 - accuracy: 0.97 - ETA: 3s - loss: 0.1067 - accuracy: 0.97 - ETA: 3s - loss: 0.1057 - accuracy: 0.97 - ETA: 3s - loss: 0.1078 - accuracy: 0.97 - ETA: 3s - loss: 0.1088 - accuracy: 0.97 - ETA: 3s - loss: 0.1085 - accuracy: 0.97 - ETA: 3s - loss: 0.1088 - accuracy: 0.97 - ETA: 3s - loss: 0.1121 - accuracy: 0.96 - ETA: 3s - loss: 0.1110 - accuracy: 0.96 - ETA: 3s - loss: 0.1108 - accuracy: 0.96 - ETA: 3s - loss: 0.1111 - accuracy: 0.96 - ETA: 3s - loss: 0.1106 - accuracy: 0.96 - ETA: 3s - loss: 0.1120 - accuracy: 0.96 - ETA: 3s - loss: 0.1123 - accuracy: 0.96 - ETA: 3s - loss: 0.1116 - accuracy: 0.96 - ETA: 3s - loss: 0.1125 - accuracy: 0.96 - ETA: 3s - loss: 0.1133 - accuracy: 0.96 - ETA: 3s - loss: 0.1135 - accuracy: 0.96 - ETA: 3s - loss: 0.1143 - accuracy: 0.96 - ETA: 3s - loss: 0.1135 - accuracy: 0.96 - ETA: 3s - loss: 0.1138 - accuracy: 0.96 - ETA: 2s - loss: 0.1143 - accuracy: 0.96 - ETA: 2s - loss: 0.1149 - accuracy: 0.96 - ETA: 2s - loss: 0.1161 - accuracy: 0.96 - ETA: 2s - loss: 0.1176 - accuracy: 0.96 - ETA: 2s - loss: 0.1175 - accuracy: 0.96 - ETA: 2s - loss: 0.1176 - accuracy: 0.96 - ETA: 2s - loss: 0.1180 - accuracy: 0.96 - ETA: 2s - loss: 0.1182 - accuracy: 0.96 - ETA: 2s - loss: 0.1188 - accuracy: 0.96 - ETA: 2s - loss: 0.1182 - accuracy: 0.96 - ETA: 2s - loss: 0.1193 - accuracy: 0.96 - ETA: 2s - loss: 0.1198 - accuracy: 0.96 - ETA: 2s - loss: 0.1210 - accuracy: 0.96 - ETA: 2s - loss: 0.1207 - accuracy: 0.96 - ETA: 2s - loss: 0.1215 - accuracy: 0.96 - ETA: 2s - loss: 0.1222 - accuracy: 0.96 - ETA: 2s - loss: 0.1216 - accuracy: 0.96 - ETA: 2s - loss: 0.1210 - accuracy: 0.96 - ETA: 2s - loss: 0.1213 - accuracy: 0.96 - ETA: 2s - loss: 0.1208 - accuracy: 0.96 - ETA: 2s - loss: 0.1203 - accuracy: 0.96 - ETA: 1s - loss: 0.1202 - accuracy: 0.96 - ETA: 1s - loss: 0.1203 - accuracy: 0.96 - ETA: 1s - loss: 0.1199 - accuracy: 0.96 - ETA: 1s - loss: 0.1201 - accuracy: 0.96 - ETA: 1s - loss: 0.1200 - accuracy: 0.96 - ETA: 1s - loss: 0.1202 - accuracy: 0.96 - ETA: 1s - loss: 0.1206 - accuracy: 0.96 - ETA: 1s - loss: 0.1215 - accuracy: 0.96 - ETA: 1s - loss: 0.1231 - accuracy: 0.96 - ETA: 1s - loss: 0.1233 - accuracy: 0.96 - ETA: 1s - loss: 0.1234 - accuracy: 0.96 - ETA: 1s - loss: 0.1236 - accuracy: 0.96 - ETA: 1s - loss: 0.1243 - accuracy: 0.96 - ETA: 1s - loss: 0.1244 - accuracy: 0.96 - ETA: 1s - loss: 0.1249 - accuracy: 0.96 - ETA: 1s - loss: 0.1248 - accuracy: 0.96 - ETA: 1s - loss: 0.1253 - accuracy: 0.96 - ETA: 1s - loss: 0.1248 - accuracy: 0.96 - ETA: 1s - loss: 0.1247 - accuracy: 0.96 - ETA: 1s - loss: 0.1247 - accuracy: 0.96 - ETA: 0s - loss: 0.1244 - accuracy: 0.96 - ETA: 0s - loss: 0.1246 - accuracy: 0.96 - ETA: 0s - loss: 0.1247 - accuracy: 0.96 - ETA: 0s - loss: 0.1250 - accuracy: 0.96 - ETA: 0s - loss: 0.1248 - accuracy: 0.96 - ETA: 0s - loss: 0.1252 - accuracy: 0.96 - ETA: 0s - loss: 0.1246 - accuracy: 0.96 - ETA: 0s - loss: 0.1245 - accuracy: 0.96 - ETA: 0s - loss: 0.1247 - accuracy: 0.96 - ETA: 0s - loss: 0.1251 - accuracy: 0.96 - ETA: 0s - loss: 0.1248 - accuracy: 0.96 - ETA: 0s - loss: 0.1253 - accuracy: 0.95 - ETA: 0s - loss: 0.1257 - accuracy: 0.95 - ETA: 0s - loss: 0.1259 - accuracy: 0.95 - ETA: 0s - loss: 0.1259 - accuracy: 0.95 - ETA: 0s - loss: 0.1263 - accuracy: 0.95 - ETA: 0s - loss: 0.1263 - accuracy: 0.95 - ETA: 0s - loss: 0.1262 - accuracy: 0.95 - ETA: 0s - loss: 0.1270 - accuracy: 0.95 - ETA: 0s - loss: 0.1276 - accuracy: 0.95 - 7s 284us/sample - loss: 0.1275 - accuracy: 0.9584 - val_loss: 0.5433 - val_accuracy: 0.8210\n"
     ]
    },
    {
     "data": {
      "text/plain": [
       "<tensorflow.python.keras.callbacks.History at 0x2514ef14e48>"
      ]
     },
     "execution_count": 33,
     "metadata": {},
     "output_type": "execute_result"
    }
   ],
   "source": [
    "(\n",
    "    model\n",
    "    .fit(x=train_padded,\n",
    "         y=train_labels_array_int,\n",
    "         epochs=NUM_EPOCHS,\n",
    "         validation_data=(test_padded, test_labels_array_int)\n",
    "        )\n",
    ")"
   ]
  },
  {
   "cell_type": "code",
   "execution_count": 59,
   "metadata": {},
   "outputs": [
    {
     "name": "stdout",
     "output_type": "stream",
     "text": [
      "Model: \"sequential_1\"\n",
      "_________________________________________________________________\n",
      "Layer (type)                 Output Shape              Param #   \n",
      "=================================================================\n",
      "embedding_1 (Embedding)      (None, 120, 16)           160000    \n",
      "_________________________________________________________________\n",
      "global_average_pooling1d (Gl (None, 16)                0         \n",
      "_________________________________________________________________\n",
      "dense_2 (Dense)              (None, 6)                 102       \n",
      "_________________________________________________________________\n",
      "dense_3 (Dense)              (None, 1)                 7         \n",
      "=================================================================\n",
      "Total params: 160,109\n",
      "Trainable params: 160,109\n",
      "Non-trainable params: 0\n",
      "_________________________________________________________________\n"
     ]
    }
   ],
   "source": [
    "model.summary()\n",
    "# Params in first layer: VOCAB_SIZE * EMBED_DIM\n",
    "# Embedding layer input size: MAX_LEN"
   ]
  },
  {
   "cell_type": "code",
   "execution_count": 57,
   "metadata": {},
   "outputs": [],
   "source": [
    "e_0 = model.layers[0]\n",
    "weight_0 = e_0.get_weights()[0]"
   ]
  },
  {
   "cell_type": "code",
   "execution_count": 58,
   "metadata": {},
   "outputs": [
    {
     "data": {
      "text/plain": [
       "(10000, 16)"
      ]
     },
     "execution_count": 58,
     "metadata": {},
     "output_type": "execute_result"
    }
   ],
   "source": [
    "weight_0.shape # shape: [VOCAB_SIZE, EMBED_DIM]"
   ]
  },
  {
   "cell_type": "code",
   "execution_count": 60,
   "metadata": {},
   "outputs": [],
   "source": [
    "import io"
   ]
  },
  {
   "cell_type": "code",
   "execution_count": 61,
   "metadata": {},
   "outputs": [],
   "source": [
    "out_v = io.open('vecs.tsv', 'w', encoding= 'utf-8')\n",
    "out_m = io.open('meta.tsv', 'w', encoding= 'utf-8')"
   ]
  },
  {
   "cell_type": "code",
   "execution_count": 91,
   "metadata": {},
   "outputs": [],
   "source": [
    "# Skip the '<OOV>'; is it always on place 1?\n",
    "for word_num in range(1,VOCAB_SIZE):\n",
    "    word = word_index_reversed[word_num]\n",
    "    embeddings = weight_0[word_num]  # embedding layer\n",
    "    out_m.write(word + \"\\n\")\n",
    "    out_v.write(\"\\t\".join([str(x) for x in embeddings]) + \"\\n\")\n",
    "out_v.close()\n",
    "out_m.close()"
   ]
  }
 ],
 "metadata": {
  "kernelspec": {
   "display_name": "Python 3",
   "language": "python",
   "name": "python3"
  },
  "language_info": {
   "codemirror_mode": {
    "name": "ipython",
    "version": 3
   },
   "file_extension": ".py",
   "mimetype": "text/x-python",
   "name": "python",
   "nbconvert_exporter": "python",
   "pygments_lexer": "ipython3",
   "version": "3.7.4"
  }
 },
 "nbformat": 4,
 "nbformat_minor": 2
}
