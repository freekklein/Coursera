{
 "cells": [
  {
   "cell_type": "markdown",
   "metadata": {},
   "source": [
    "# Week 2: https://www.coursera.org/learn/natural-language-processing-tensorflow/home/week/1"
   ]
  },
  {
   "cell_type": "code",
   "execution_count": 1,
   "metadata": {},
   "outputs": [],
   "source": [
    "import json\n",
    "import tensorflow as tf"
   ]
  },
  {
   "cell_type": "code",
   "execution_count": 2,
   "metadata": {},
   "outputs": [],
   "source": [
    "from tensorflow.keras.preprocessing.sequence import pad_sequences\n",
    "from tensorflow.keras.preprocessing.text import Tokenizer"
   ]
  },
  {
   "cell_type": "markdown",
   "metadata": {},
   "source": [
    "## Loading data and setup config params"
   ]
  },
  {
   "cell_type": "code",
   "execution_count": 22,
   "metadata": {},
   "outputs": [],
   "source": [
    "vocab_size = int(1e+4)\n",
    "embed_dim = 16\n",
    "max_length = 32\n",
    "trunc_type = 'post'\n",
    "oov_tok = '<OOV>'\n",
    "padding_type = 'post'\n",
    "training_size = int(2e+3) # 27k records in full data set; we only have 7k records"
   ]
  },
  {
   "cell_type": "code",
   "execution_count": 8,
   "metadata": {},
   "outputs": [],
   "source": [
    "tmp = []\n",
    "for f in open ('../Data/sarcasm.json', 'r'):\n",
    "    tmp.append(json.loads(f))"
   ]
  },
  {
   "cell_type": "code",
   "execution_count": 15,
   "metadata": {},
   "outputs": [],
   "source": [
    "sentences = []\n",
    "labels = []\n",
    "\n",
    "for item in tmp:\n",
    "    sentences.append(item['headline'])\n",
    "    labels.append(item['is_sarcastic'])"
   ]
  },
  {
   "cell_type": "markdown",
   "metadata": {},
   "source": [
    "## Building the classifier"
   ]
  },
  {
   "cell_type": "code",
   "execution_count": 24,
   "metadata": {},
   "outputs": [],
   "source": [
    "train_sentences = sentences[0:training_size]\n",
    "train_labels = labels[0:training_size]\n",
    "\n",
    "test_sentences = sentences[training_size:]\n",
    "test_labels = labels[training_size:]"
   ]
  },
  {
   "cell_type": "code",
   "execution_count": 71,
   "metadata": {},
   "outputs": [],
   "source": [
    "assert len(sentences) == len(train_sentences) + len(test_sentences),f'mismatch'"
   ]
  },
  {
   "cell_type": "code",
   "execution_count": 55,
   "metadata": {},
   "outputs": [],
   "source": [
    "tokenizer = Tokenizer(num_words=vocab_size, oov_token=oov_tok)\n",
    "tokenizer.fit_on_texts(train_sentences)"
   ]
  },
  {
   "cell_type": "code",
   "execution_count": 56,
   "metadata": {},
   "outputs": [],
   "source": [
    "word_index = tokenizer.word_index"
   ]
  },
  {
   "cell_type": "code",
   "execution_count": 57,
   "metadata": {},
   "outputs": [],
   "source": [
    "train_seq = tokenizer.texts_to_sequences(train_sentences)\n",
    "training_pad = pad_sequences(train_seq,\n",
    "                             maxlen=max_length,\n",
    "                             padding=padding_type,\n",
    "                             truncating=trunc_type\n",
    "                            )\n",
    "\n",
    "test_seq = tokenizer.texts_to_sequences(test_sentences)\n",
    "test_pad = pad_sequences(test_seq, \n",
    "                         maxlen=max_length,\n",
    "                         padding=padding_type,\n",
    "                         truncating=trunc_type\n",
    "                        )"
   ]
  },
  {
   "cell_type": "code",
   "execution_count": 70,
   "metadata": {},
   "outputs": [],
   "source": [
    "## Model"
   ]
  },
  {
   "cell_type": "code",
   "execution_count": 72,
   "metadata": {},
   "outputs": [],
   "source": [
    "model = tf.keras.Sequential([\n",
    "    tf.keras.layers.Embedding(vocab_size,embed_dim,input_length=max_length),\n",
    "    tf.keras.layers.GlobalAveragePooling1D(),\n",
    "    tf.keras.layers.Dense(24, activation='relu'),\n",
    "    tf.keras.layers.Dense(1, activation='sigmoid')\n",
    "])"
   ]
  },
  {
   "cell_type": "code",
   "execution_count": 73,
   "metadata": {},
   "outputs": [],
   "source": [
    "LOSS = 'binary_crossentropy'\n",
    "OPTIMIZER = 'adam'\n",
    "METRICS = ['accuracy']"
   ]
  },
  {
   "cell_type": "code",
   "execution_count": 74,
   "metadata": {},
   "outputs": [],
   "source": [
    "model.compile(loss=LOSS, optimizer=OPTIMIZER, metrics=METRICS)"
   ]
  },
  {
   "cell_type": "code",
   "execution_count": 75,
   "metadata": {},
   "outputs": [
    {
     "name": "stdout",
     "output_type": "stream",
     "text": [
      "Model: \"sequential\"\n",
      "_________________________________________________________________\n",
      "Layer (type)                 Output Shape              Param #   \n",
      "=================================================================\n",
      "embedding (Embedding)        (None, 32, 16)            160000    \n",
      "_________________________________________________________________\n",
      "global_average_pooling1d (Gl (None, 16)                0         \n",
      "_________________________________________________________________\n",
      "dense (Dense)                (None, 24)                408       \n",
      "_________________________________________________________________\n",
      "dense_1 (Dense)              (None, 1)                 25        \n",
      "=================================================================\n",
      "Total params: 160,433\n",
      "Trainable params: 160,433\n",
      "Non-trainable params: 0\n",
      "_________________________________________________________________\n"
     ]
    }
   ],
   "source": [
    "model.summary()"
   ]
  },
  {
   "cell_type": "code",
   "execution_count": 85,
   "metadata": {},
   "outputs": [
    {
     "data": {
      "text/plain": [
       "list"
      ]
     },
     "execution_count": 85,
     "metadata": {},
     "output_type": "execute_result"
    }
   ],
   "source": []
  },
  {
   "cell_type": "code",
   "execution_count": 87,
   "metadata": {},
   "outputs": [
    {
     "name": "stdout",
     "output_type": "stream",
     "text": [
      "Train on 2000 samples, validate on 5082 samples\n",
      "Epoch 1/30\n",
      "2000/2000 - 1s - loss: 0.6922 - accuracy: 0.5180 - val_loss: 0.6906 - val_accuracy: 0.5419\n",
      "Epoch 2/30\n",
      "2000/2000 - 0s - loss: 0.6843 - accuracy: 0.7620 - val_loss: 0.6821 - val_accuracy: 0.7227\n",
      "Epoch 3/30\n",
      "2000/2000 - 0s - loss: 0.6574 - accuracy: 0.8510 - val_loss: 0.6580 - val_accuracy: 0.7595\n",
      "Epoch 4/30\n",
      "2000/2000 - 0s - loss: 0.5941 - accuracy: 0.8645 - val_loss: 0.6159 - val_accuracy: 0.7302\n",
      "Epoch 5/30\n",
      "2000/2000 - 0s - loss: 0.4939 - accuracy: 0.9185 - val_loss: 0.5589 - val_accuracy: 0.7749\n",
      "Epoch 6/30\n",
      "2000/2000 - 0s - loss: 0.3821 - accuracy: 0.9470 - val_loss: 0.5122 - val_accuracy: 0.7767\n",
      "Epoch 7/30\n",
      "2000/2000 - 0s - loss: 0.2854 - accuracy: 0.9585 - val_loss: 0.4817 - val_accuracy: 0.7796\n",
      "Epoch 8/30\n",
      "2000/2000 - 0s - loss: 0.2117 - accuracy: 0.9720 - val_loss: 0.4644 - val_accuracy: 0.7784\n",
      "Epoch 9/30\n",
      "2000/2000 - 0s - loss: 0.1601 - accuracy: 0.9815 - val_loss: 0.4566 - val_accuracy: 0.7802\n",
      "Epoch 10/30\n",
      "2000/2000 - 0s - loss: 0.1231 - accuracy: 0.9870 - val_loss: 0.4554 - val_accuracy: 0.7822\n",
      "Epoch 11/30\n",
      "2000/2000 - 0s - loss: 0.0936 - accuracy: 0.9925 - val_loss: 0.4684 - val_accuracy: 0.7763\n",
      "Epoch 12/30\n",
      "2000/2000 - 0s - loss: 0.0742 - accuracy: 0.9940 - val_loss: 0.4627 - val_accuracy: 0.7816\n",
      "Epoch 13/30\n",
      "2000/2000 - 0s - loss: 0.0587 - accuracy: 0.9965 - val_loss: 0.4710 - val_accuracy: 0.7784\n",
      "Epoch 14/30\n",
      "2000/2000 - 0s - loss: 0.0477 - accuracy: 0.9965 - val_loss: 0.4777 - val_accuracy: 0.7771\n",
      "Epoch 15/30\n",
      "2000/2000 - 0s - loss: 0.0395 - accuracy: 0.9980 - val_loss: 0.4874 - val_accuracy: 0.7761\n",
      "Epoch 16/30\n",
      "2000/2000 - 0s - loss: 0.0328 - accuracy: 0.9995 - val_loss: 0.4917 - val_accuracy: 0.7751\n",
      "Epoch 17/30\n",
      "2000/2000 - 0s - loss: 0.0275 - accuracy: 0.9995 - val_loss: 0.5012 - val_accuracy: 0.7737\n",
      "Epoch 18/30\n",
      "2000/2000 - 0s - loss: 0.0235 - accuracy: 0.9995 - val_loss: 0.5082 - val_accuracy: 0.7739\n",
      "Epoch 19/30\n",
      "2000/2000 - 0s - loss: 0.0205 - accuracy: 0.9990 - val_loss: 0.5169 - val_accuracy: 0.7733\n",
      "Epoch 20/30\n",
      "2000/2000 - 0s - loss: 0.0176 - accuracy: 0.9995 - val_loss: 0.5218 - val_accuracy: 0.7753\n",
      "Epoch 21/30\n",
      "2000/2000 - 0s - loss: 0.0151 - accuracy: 0.9995 - val_loss: 0.5366 - val_accuracy: 0.7712\n",
      "Epoch 22/30\n",
      "2000/2000 - 0s - loss: 0.0127 - accuracy: 0.9995 - val_loss: 0.5429 - val_accuracy: 0.7719\n",
      "Epoch 23/30\n",
      "2000/2000 - 0s - loss: 0.0107 - accuracy: 0.9995 - val_loss: 0.5458 - val_accuracy: 0.7712\n",
      "Epoch 24/30\n",
      "2000/2000 - 0s - loss: 0.0093 - accuracy: 1.0000 - val_loss: 0.5531 - val_accuracy: 0.7712\n",
      "Epoch 25/30\n",
      "2000/2000 - 0s - loss: 0.0082 - accuracy: 1.0000 - val_loss: 0.5621 - val_accuracy: 0.7717\n",
      "Epoch 26/30\n",
      "2000/2000 - 0s - loss: 0.0073 - accuracy: 1.0000 - val_loss: 0.5713 - val_accuracy: 0.7694\n",
      "Epoch 27/30\n",
      "2000/2000 - 0s - loss: 0.0065 - accuracy: 1.0000 - val_loss: 0.5747 - val_accuracy: 0.7717\n",
      "Epoch 28/30\n",
      "2000/2000 - 0s - loss: 0.0058 - accuracy: 1.0000 - val_loss: 0.5824 - val_accuracy: 0.7706\n",
      "Epoch 29/30\n",
      "2000/2000 - 0s - loss: 0.0052 - accuracy: 1.0000 - val_loss: 0.5853 - val_accuracy: 0.7698\n",
      "Epoch 30/30\n",
      "2000/2000 - 0s - loss: 0.0047 - accuracy: 1.0000 - val_loss: 0.5962 - val_accuracy: 0.7698\n"
     ]
    }
   ],
   "source": [
    "num_epochs =30\n",
    "import numpy as np\n",
    "history = model.fit(x=training_pad,y=np.array(train_labels), epochs=num_epochs, validation_data=(test_pad, np.array(test_labels)), verbose=2)"
   ]
  },
  {
   "cell_type": "code",
   "execution_count": 95,
   "metadata": {},
   "outputs": [],
   "source": [
    "from matplotlib import pylab as plt"
   ]
  },
  {
   "cell_type": "code",
   "execution_count": 102,
   "metadata": {},
   "outputs": [],
   "source": [
    "def plot_graphs(history, string):\n",
    "    plt.plot(history.history[string])\n",
    "    plt.plot(history.history['val_'+string])\n",
    "    plt.xlabel('Epoch')\n",
    "    plt.ylabel(string)\n",
    "    plt.legend([string,'val_'+string])\n",
    "    plt.show()"
   ]
  },
  {
   "cell_type": "code",
   "execution_count": 103,
   "metadata": {},
   "outputs": [
    {
     "data": {
      "image/png": "[encoded data removed]",
      "text/plain": [
       "<Figure size 432x288 with 1 Axes>"
      ]
     },
     "metadata": {
      "needs_background": "light"
     },
     "output_type": "display_data"
    }
   ],
   "source": [
    "plot_graphs(history=history, string='loss')"
   ]
  },
  {
   "cell_type": "code",
   "execution_count": 105,
   "metadata": {},
   "outputs": [
    {
     "data": {
      "image/png": "[encoded data removed]",
      "text/plain": [
       "<Figure size 432x288 with 1 Axes>"
      ]
     },
     "metadata": {
      "needs_background": "light"
     },
     "output_type": "display_data"
    }
   ],
   "source": [
    "plot_graphs(history=history, string='accuracy')"
   ]
  },
  {
   "cell_type": "code",
   "execution_count": null,
   "metadata": {},
   "outputs": [],
   "source": []
  }
 ],
 "metadata": {
  "kernelspec": {
   "display_name": "Python 3",
   "language": "python",
   "name": "python3"
  },
  "language_info": {
   "codemirror_mode": {
    "name": "ipython",
    "version": 3
   },
   "file_extension": ".py",
   "mimetype": "text/x-python",
   "name": "python",
   "nbconvert_exporter": "python",
   "pygments_lexer": "ipython3",
   "version": "3.7.4"
  }
 },
 "nbformat": 4,
 "nbformat_minor": 2
}
